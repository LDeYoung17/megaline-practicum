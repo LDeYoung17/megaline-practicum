{
 "cells": [
  {
   "cell_type": "markdown",
   "metadata": {},
   "source": [
    "<h1>Introduction</h1>\n",
    "Megaline provides two different prepaid plans to their users. After users reach the limits of their chosen plan, they are charged per usage. The data provided describes user information, plan information, and the details of metrics of different parts of the plan: messages, internet, and calling. In this analysis, I will look at user behavior in the two different plans to make recommendations about which plan brings in more revenue based on this sample of the client base. "
   ]
  },
  {
   "cell_type": "markdown",
   "metadata": {},
   "source": [
    "These are the different libraries that are necessary to complete the analysis."
   ]
  },
  {
   "cell_type": "code",
   "execution_count": 1,
   "metadata": {},
   "outputs": [],
   "source": [
    "# Loading all the libraries\n",
    "import pandas as pd\n",
    "import numpy as np\n",
    "from matplotlib import pyplot as plt\n",
    "from scipy import stats as st\n",
    "from math import factorial\n"
   ]
  },
  {
   "cell_type": "markdown",
   "metadata": {},
   "source": [
    "I checked for different delimiters or decimals and found that nothing needed changed."
   ]
  },
  {
   "cell_type": "code",
   "execution_count": 2,
   "metadata": {},
   "outputs": [
    {
     "ename": "FileNotFoundError",
     "evalue": "[Errno 2] No such file or directory: '/datasets/megaline_calls.csv'",
     "output_type": "error",
     "traceback": [
      "\u001b[0;31m---------------------------------------------------------------------------\u001b[0m",
      "\u001b[0;31mFileNotFoundError\u001b[0m                         Traceback (most recent call last)",
      "\u001b[0;32m/var/folders/fq/v2vx_nv10dqgzcc4k2ny1vq00000gn/T/ipykernel_38922/1359417324.py\u001b[0m in \u001b[0;36m<module>\u001b[0;34m\u001b[0m\n\u001b[1;32m      1\u001b[0m \u001b[0;31m# Load the data files into different DataFrames\u001b[0m\u001b[0;34m\u001b[0m\u001b[0;34m\u001b[0m\u001b[0m\n\u001b[0;32m----> 2\u001b[0;31m \u001b[0mdata_calls\u001b[0m \u001b[0;34m=\u001b[0m \u001b[0mpd\u001b[0m\u001b[0;34m.\u001b[0m\u001b[0mread_csv\u001b[0m\u001b[0;34m(\u001b[0m\u001b[0;34m'/datasets/megaline_calls.csv'\u001b[0m\u001b[0;34m)\u001b[0m\u001b[0;34m\u001b[0m\u001b[0;34m\u001b[0m\u001b[0m\n\u001b[0m\u001b[1;32m      3\u001b[0m \u001b[0mdata_internet\u001b[0m \u001b[0;34m=\u001b[0m \u001b[0mpd\u001b[0m\u001b[0;34m.\u001b[0m\u001b[0mread_csv\u001b[0m\u001b[0;34m(\u001b[0m\u001b[0;34m'/datasets/megaline_internet.csv'\u001b[0m\u001b[0;34m)\u001b[0m\u001b[0;34m\u001b[0m\u001b[0;34m\u001b[0m\u001b[0m\n\u001b[1;32m      4\u001b[0m \u001b[0mdata_messages\u001b[0m \u001b[0;34m=\u001b[0m \u001b[0mpd\u001b[0m\u001b[0;34m.\u001b[0m\u001b[0mread_csv\u001b[0m\u001b[0;34m(\u001b[0m\u001b[0;34m'/datasets/megaline_messages.csv'\u001b[0m\u001b[0;34m)\u001b[0m\u001b[0;34m\u001b[0m\u001b[0;34m\u001b[0m\u001b[0m\n\u001b[1;32m      5\u001b[0m \u001b[0mdata_plans\u001b[0m \u001b[0;34m=\u001b[0m \u001b[0mpd\u001b[0m\u001b[0;34m.\u001b[0m\u001b[0mread_csv\u001b[0m\u001b[0;34m(\u001b[0m\u001b[0;34m'/datasets/megaline_plans.csv'\u001b[0m\u001b[0;34m)\u001b[0m\u001b[0;34m\u001b[0m\u001b[0;34m\u001b[0m\u001b[0m\n",
      "\u001b[0;32m~/opt/anaconda3/lib/python3.9/site-packages/pandas/util/_decorators.py\u001b[0m in \u001b[0;36mwrapper\u001b[0;34m(*args, **kwargs)\u001b[0m\n\u001b[1;32m    309\u001b[0m                     \u001b[0mstacklevel\u001b[0m\u001b[0;34m=\u001b[0m\u001b[0mstacklevel\u001b[0m\u001b[0;34m,\u001b[0m\u001b[0;34m\u001b[0m\u001b[0;34m\u001b[0m\u001b[0m\n\u001b[1;32m    310\u001b[0m                 )\n\u001b[0;32m--> 311\u001b[0;31m             \u001b[0;32mreturn\u001b[0m \u001b[0mfunc\u001b[0m\u001b[0;34m(\u001b[0m\u001b[0;34m*\u001b[0m\u001b[0margs\u001b[0m\u001b[0;34m,\u001b[0m \u001b[0;34m**\u001b[0m\u001b[0mkwargs\u001b[0m\u001b[0;34m)\u001b[0m\u001b[0;34m\u001b[0m\u001b[0;34m\u001b[0m\u001b[0m\n\u001b[0m\u001b[1;32m    312\u001b[0m \u001b[0;34m\u001b[0m\u001b[0m\n\u001b[1;32m    313\u001b[0m         \u001b[0;32mreturn\u001b[0m \u001b[0mwrapper\u001b[0m\u001b[0;34m\u001b[0m\u001b[0;34m\u001b[0m\u001b[0m\n",
      "\u001b[0;32m~/opt/anaconda3/lib/python3.9/site-packages/pandas/io/parsers/readers.py\u001b[0m in \u001b[0;36mread_csv\u001b[0;34m(filepath_or_buffer, sep, delimiter, header, names, index_col, usecols, squeeze, prefix, mangle_dupe_cols, dtype, engine, converters, true_values, false_values, skipinitialspace, skiprows, skipfooter, nrows, na_values, keep_default_na, na_filter, verbose, skip_blank_lines, parse_dates, infer_datetime_format, keep_date_col, date_parser, dayfirst, cache_dates, iterator, chunksize, compression, thousands, decimal, lineterminator, quotechar, quoting, doublequote, escapechar, comment, encoding, encoding_errors, dialect, error_bad_lines, warn_bad_lines, on_bad_lines, delim_whitespace, low_memory, memory_map, float_precision, storage_options)\u001b[0m\n\u001b[1;32m    676\u001b[0m     \u001b[0mkwds\u001b[0m\u001b[0;34m.\u001b[0m\u001b[0mupdate\u001b[0m\u001b[0;34m(\u001b[0m\u001b[0mkwds_defaults\u001b[0m\u001b[0;34m)\u001b[0m\u001b[0;34m\u001b[0m\u001b[0;34m\u001b[0m\u001b[0m\n\u001b[1;32m    677\u001b[0m \u001b[0;34m\u001b[0m\u001b[0m\n\u001b[0;32m--> 678\u001b[0;31m     \u001b[0;32mreturn\u001b[0m \u001b[0m_read\u001b[0m\u001b[0;34m(\u001b[0m\u001b[0mfilepath_or_buffer\u001b[0m\u001b[0;34m,\u001b[0m \u001b[0mkwds\u001b[0m\u001b[0;34m)\u001b[0m\u001b[0;34m\u001b[0m\u001b[0;34m\u001b[0m\u001b[0m\n\u001b[0m\u001b[1;32m    679\u001b[0m \u001b[0;34m\u001b[0m\u001b[0m\n\u001b[1;32m    680\u001b[0m \u001b[0;34m\u001b[0m\u001b[0m\n",
      "\u001b[0;32m~/opt/anaconda3/lib/python3.9/site-packages/pandas/io/parsers/readers.py\u001b[0m in \u001b[0;36m_read\u001b[0;34m(filepath_or_buffer, kwds)\u001b[0m\n\u001b[1;32m    573\u001b[0m \u001b[0;34m\u001b[0m\u001b[0m\n\u001b[1;32m    574\u001b[0m     \u001b[0;31m# Create the parser.\u001b[0m\u001b[0;34m\u001b[0m\u001b[0;34m\u001b[0m\u001b[0m\n\u001b[0;32m--> 575\u001b[0;31m     \u001b[0mparser\u001b[0m \u001b[0;34m=\u001b[0m \u001b[0mTextFileReader\u001b[0m\u001b[0;34m(\u001b[0m\u001b[0mfilepath_or_buffer\u001b[0m\u001b[0;34m,\u001b[0m \u001b[0;34m**\u001b[0m\u001b[0mkwds\u001b[0m\u001b[0;34m)\u001b[0m\u001b[0;34m\u001b[0m\u001b[0;34m\u001b[0m\u001b[0m\n\u001b[0m\u001b[1;32m    576\u001b[0m \u001b[0;34m\u001b[0m\u001b[0m\n\u001b[1;32m    577\u001b[0m     \u001b[0;32mif\u001b[0m \u001b[0mchunksize\u001b[0m \u001b[0;32mor\u001b[0m \u001b[0miterator\u001b[0m\u001b[0;34m:\u001b[0m\u001b[0;34m\u001b[0m\u001b[0;34m\u001b[0m\u001b[0m\n",
      "\u001b[0;32m~/opt/anaconda3/lib/python3.9/site-packages/pandas/io/parsers/readers.py\u001b[0m in \u001b[0;36m__init__\u001b[0;34m(self, f, engine, **kwds)\u001b[0m\n\u001b[1;32m    930\u001b[0m \u001b[0;34m\u001b[0m\u001b[0m\n\u001b[1;32m    931\u001b[0m         \u001b[0mself\u001b[0m\u001b[0;34m.\u001b[0m\u001b[0mhandles\u001b[0m\u001b[0;34m:\u001b[0m \u001b[0mIOHandles\u001b[0m \u001b[0;34m|\u001b[0m \u001b[0;32mNone\u001b[0m \u001b[0;34m=\u001b[0m \u001b[0;32mNone\u001b[0m\u001b[0;34m\u001b[0m\u001b[0;34m\u001b[0m\u001b[0m\n\u001b[0;32m--> 932\u001b[0;31m         \u001b[0mself\u001b[0m\u001b[0;34m.\u001b[0m\u001b[0m_engine\u001b[0m \u001b[0;34m=\u001b[0m \u001b[0mself\u001b[0m\u001b[0;34m.\u001b[0m\u001b[0m_make_engine\u001b[0m\u001b[0;34m(\u001b[0m\u001b[0mf\u001b[0m\u001b[0;34m,\u001b[0m \u001b[0mself\u001b[0m\u001b[0;34m.\u001b[0m\u001b[0mengine\u001b[0m\u001b[0;34m)\u001b[0m\u001b[0;34m\u001b[0m\u001b[0;34m\u001b[0m\u001b[0m\n\u001b[0m\u001b[1;32m    933\u001b[0m \u001b[0;34m\u001b[0m\u001b[0m\n\u001b[1;32m    934\u001b[0m     \u001b[0;32mdef\u001b[0m \u001b[0mclose\u001b[0m\u001b[0;34m(\u001b[0m\u001b[0mself\u001b[0m\u001b[0;34m)\u001b[0m\u001b[0;34m:\u001b[0m\u001b[0;34m\u001b[0m\u001b[0;34m\u001b[0m\u001b[0m\n",
      "\u001b[0;32m~/opt/anaconda3/lib/python3.9/site-packages/pandas/io/parsers/readers.py\u001b[0m in \u001b[0;36m_make_engine\u001b[0;34m(self, f, engine)\u001b[0m\n\u001b[1;32m   1214\u001b[0m             \u001b[0;31m# \"Union[str, PathLike[str], ReadCsvBuffer[bytes], ReadCsvBuffer[str]]\"\u001b[0m\u001b[0;34m\u001b[0m\u001b[0;34m\u001b[0m\u001b[0m\n\u001b[1;32m   1215\u001b[0m             \u001b[0;31m# , \"str\", \"bool\", \"Any\", \"Any\", \"Any\", \"Any\", \"Any\"\u001b[0m\u001b[0;34m\u001b[0m\u001b[0;34m\u001b[0m\u001b[0m\n\u001b[0;32m-> 1216\u001b[0;31m             self.handles = get_handle(  # type: ignore[call-overload]\n\u001b[0m\u001b[1;32m   1217\u001b[0m                 \u001b[0mf\u001b[0m\u001b[0;34m,\u001b[0m\u001b[0;34m\u001b[0m\u001b[0;34m\u001b[0m\u001b[0m\n\u001b[1;32m   1218\u001b[0m                 \u001b[0mmode\u001b[0m\u001b[0;34m,\u001b[0m\u001b[0;34m\u001b[0m\u001b[0;34m\u001b[0m\u001b[0m\n",
      "\u001b[0;32m~/opt/anaconda3/lib/python3.9/site-packages/pandas/io/common.py\u001b[0m in \u001b[0;36mget_handle\u001b[0;34m(path_or_buf, mode, encoding, compression, memory_map, is_text, errors, storage_options)\u001b[0m\n\u001b[1;32m    784\u001b[0m         \u001b[0;32mif\u001b[0m \u001b[0mioargs\u001b[0m\u001b[0;34m.\u001b[0m\u001b[0mencoding\u001b[0m \u001b[0;32mand\u001b[0m \u001b[0;34m\"b\"\u001b[0m \u001b[0;32mnot\u001b[0m \u001b[0;32min\u001b[0m \u001b[0mioargs\u001b[0m\u001b[0;34m.\u001b[0m\u001b[0mmode\u001b[0m\u001b[0;34m:\u001b[0m\u001b[0;34m\u001b[0m\u001b[0;34m\u001b[0m\u001b[0m\n\u001b[1;32m    785\u001b[0m             \u001b[0;31m# Encoding\u001b[0m\u001b[0;34m\u001b[0m\u001b[0;34m\u001b[0m\u001b[0m\n\u001b[0;32m--> 786\u001b[0;31m             handle = open(\n\u001b[0m\u001b[1;32m    787\u001b[0m                 \u001b[0mhandle\u001b[0m\u001b[0;34m,\u001b[0m\u001b[0;34m\u001b[0m\u001b[0;34m\u001b[0m\u001b[0m\n\u001b[1;32m    788\u001b[0m                 \u001b[0mioargs\u001b[0m\u001b[0;34m.\u001b[0m\u001b[0mmode\u001b[0m\u001b[0;34m,\u001b[0m\u001b[0;34m\u001b[0m\u001b[0;34m\u001b[0m\u001b[0m\n",
      "\u001b[0;31mFileNotFoundError\u001b[0m: [Errno 2] No such file or directory: '/datasets/megaline_calls.csv'"
     ]
    }
   ],
   "source": [
    "# Load the data files into different DataFrames\n",
    "data_calls = pd.read_csv('/datasets/megaline_calls.csv')\n",
    "data_internet = pd.read_csv('/datasets/megaline_internet.csv')\n",
    "data_messages = pd.read_csv('/datasets/megaline_messages.csv')\n",
    "data_plans = pd.read_csv('/datasets/megaline_plans.csv')\n",
    "data_users = pd.read_csv('/datasets/megaline_users.csv')"
   ]
  },
  {
   "cell_type": "markdown",
   "metadata": {},
   "source": [
    "Most of the DataFrames needed corrections, and I added columns to every DataFrame."
   ]
  },
  {
   "cell_type": "markdown",
   "metadata": {},
   "source": [
    "## Plans"
   ]
  },
  {
   "cell_type": "code",
   "execution_count": null,
   "metadata": {},
   "outputs": [
    {
     "name": "stdout",
     "output_type": "stream",
     "text": [
      "<class 'pandas.core.frame.DataFrame'>\n",
      "RangeIndex: 2 entries, 0 to 1\n",
      "Data columns (total 8 columns):\n",
      " #   Column                 Non-Null Count  Dtype  \n",
      "---  ------                 --------------  -----  \n",
      " 0   messages_included      2 non-null      int64  \n",
      " 1   mb_per_month_included  2 non-null      int64  \n",
      " 2   minutes_included       2 non-null      int64  \n",
      " 3   usd_monthly_pay        2 non-null      int64  \n",
      " 4   usd_per_gb             2 non-null      int64  \n",
      " 5   usd_per_message        2 non-null      float64\n",
      " 6   usd_per_minute         2 non-null      float64\n",
      " 7   plan_name              2 non-null      object \n",
      "dtypes: float64(2), int64(5), object(1)\n",
      "memory usage: 256.0+ bytes\n"
     ]
    }
   ],
   "source": [
    "# Print the general/summary information about the plans' DataFrame\n",
    "data_plans.info()"
   ]
  },
  {
   "cell_type": "code",
   "execution_count": null,
   "metadata": {},
   "outputs": [
    {
     "data": {
      "text/html": [
       "<div>\n",
       "<style scoped>\n",
       "    .dataframe tbody tr th:only-of-type {\n",
       "        vertical-align: middle;\n",
       "    }\n",
       "\n",
       "    .dataframe tbody tr th {\n",
       "        vertical-align: top;\n",
       "    }\n",
       "\n",
       "    .dataframe thead th {\n",
       "        text-align: right;\n",
       "    }\n",
       "</style>\n",
       "<table border=\"1\" class=\"dataframe\">\n",
       "  <thead>\n",
       "    <tr style=\"text-align: right;\">\n",
       "      <th></th>\n",
       "      <th>messages_included</th>\n",
       "      <th>mb_per_month_included</th>\n",
       "      <th>minutes_included</th>\n",
       "      <th>usd_monthly_pay</th>\n",
       "      <th>usd_per_gb</th>\n",
       "      <th>usd_per_message</th>\n",
       "      <th>usd_per_minute</th>\n",
       "      <th>plan_name</th>\n",
       "    </tr>\n",
       "  </thead>\n",
       "  <tbody>\n",
       "    <tr>\n",
       "      <th>0</th>\n",
       "      <td>50</td>\n",
       "      <td>15360</td>\n",
       "      <td>500</td>\n",
       "      <td>20</td>\n",
       "      <td>10</td>\n",
       "      <td>0.03</td>\n",
       "      <td>0.03</td>\n",
       "      <td>surf</td>\n",
       "    </tr>\n",
       "    <tr>\n",
       "      <th>1</th>\n",
       "      <td>1000</td>\n",
       "      <td>30720</td>\n",
       "      <td>3000</td>\n",
       "      <td>70</td>\n",
       "      <td>7</td>\n",
       "      <td>0.01</td>\n",
       "      <td>0.01</td>\n",
       "      <td>ultimate</td>\n",
       "    </tr>\n",
       "  </tbody>\n",
       "</table>\n",
       "</div>"
      ],
      "text/plain": [
       "   messages_included  mb_per_month_included  minutes_included  \\\n",
       "0                 50                  15360               500   \n",
       "1               1000                  30720              3000   \n",
       "\n",
       "   usd_monthly_pay  usd_per_gb  usd_per_message  usd_per_minute plan_name  \n",
       "0               20          10             0.03            0.03      surf  \n",
       "1               70           7             0.01            0.01  ultimate  "
      ]
     },
     "metadata": {},
     "output_type": "display_data"
    }
   ],
   "source": [
    "# Print a sample of data for plans\n",
    "display(data_plans.head())"
   ]
  },
  {
   "cell_type": "markdown",
   "metadata": {},
   "source": [
    "While this dataset has multiple columns, it only has two rows, which makes sense because there are only two plans available. The datatypes are appropriate and all data is filled in."
   ]
  },
  {
   "cell_type": "markdown",
   "metadata": {},
   "source": [
    " "
   ]
  },
  {
   "cell_type": "markdown",
   "metadata": {},
   "source": [
    "## Fix data"
   ]
  },
  {
   "cell_type": "markdown",
   "metadata": {},
   "source": [
    "There are no obvious issues with this dataset.\n",
    "Update after completing all work: I still did not need to make any changes to fix this dataset."
   ]
  },
  {
   "cell_type": "markdown",
   "metadata": {},
   "source": [
    "## Enrich data"
   ]
  },
  {
   "cell_type": "markdown",
   "metadata": {},
   "source": [
    "I converted megabytes to gigabytes and added a column to complete future calculations"
   ]
  },
  {
   "cell_type": "code",
   "execution_count": null,
   "metadata": {},
   "outputs": [
    {
     "data": {
      "text/html": [
       "<div>\n",
       "<style scoped>\n",
       "    .dataframe tbody tr th:only-of-type {\n",
       "        vertical-align: middle;\n",
       "    }\n",
       "\n",
       "    .dataframe tbody tr th {\n",
       "        vertical-align: top;\n",
       "    }\n",
       "\n",
       "    .dataframe thead th {\n",
       "        text-align: right;\n",
       "    }\n",
       "</style>\n",
       "<table border=\"1\" class=\"dataframe\">\n",
       "  <thead>\n",
       "    <tr style=\"text-align: right;\">\n",
       "      <th></th>\n",
       "      <th>messages_included</th>\n",
       "      <th>mb_per_month_included</th>\n",
       "      <th>minutes_included</th>\n",
       "      <th>usd_monthly_pay</th>\n",
       "      <th>usd_per_gb</th>\n",
       "      <th>usd_per_message</th>\n",
       "      <th>usd_per_minute</th>\n",
       "      <th>plan_name</th>\n",
       "      <th>gb_per_month_included</th>\n",
       "    </tr>\n",
       "  </thead>\n",
       "  <tbody>\n",
       "    <tr>\n",
       "      <th>0</th>\n",
       "      <td>50</td>\n",
       "      <td>15360</td>\n",
       "      <td>500</td>\n",
       "      <td>20</td>\n",
       "      <td>10</td>\n",
       "      <td>0.03</td>\n",
       "      <td>0.03</td>\n",
       "      <td>surf</td>\n",
       "      <td>15.36</td>\n",
       "    </tr>\n",
       "    <tr>\n",
       "      <th>1</th>\n",
       "      <td>1000</td>\n",
       "      <td>30720</td>\n",
       "      <td>3000</td>\n",
       "      <td>70</td>\n",
       "      <td>7</td>\n",
       "      <td>0.01</td>\n",
       "      <td>0.01</td>\n",
       "      <td>ultimate</td>\n",
       "      <td>30.72</td>\n",
       "    </tr>\n",
       "  </tbody>\n",
       "</table>\n",
       "</div>"
      ],
      "text/plain": [
       "   messages_included  mb_per_month_included  minutes_included  \\\n",
       "0                 50                  15360               500   \n",
       "1               1000                  30720              3000   \n",
       "\n",
       "   usd_monthly_pay  usd_per_gb  usd_per_message  usd_per_minute plan_name  \\\n",
       "0               20          10             0.03            0.03      surf   \n",
       "1               70           7             0.01            0.01  ultimate   \n",
       "\n",
       "   gb_per_month_included  \n",
       "0                  15.36  \n",
       "1                  30.72  "
      ]
     },
     "metadata": {},
     "output_type": "display_data"
    }
   ],
   "source": [
    "data_plans['gb_per_month_included'] = data_plans['mb_per_month_included'] / 1024\n",
    "display(data_plans.head())"
   ]
  },
  {
   "cell_type": "markdown",
   "metadata": {},
   "source": [
    "<div class=\"alert alert-block alert-warning\">\n",
    "<b>Reviewer's comment</b> <a class=\"tocSkip\"></a>\n",
    "\n",
    "We have 1024 Mb in 1 Gb =)\n",
    "</div>"
   ]
  },
  {
   "cell_type": "markdown",
   "metadata": {},
   "source": [
    "## Users"
   ]
  },
  {
   "cell_type": "code",
   "execution_count": null,
   "metadata": {},
   "outputs": [
    {
     "name": "stdout",
     "output_type": "stream",
     "text": [
      "<class 'pandas.core.frame.DataFrame'>\n",
      "RangeIndex: 500 entries, 0 to 499\n",
      "Data columns (total 8 columns):\n",
      " #   Column      Non-Null Count  Dtype \n",
      "---  ------      --------------  ----- \n",
      " 0   user_id     500 non-null    int64 \n",
      " 1   first_name  500 non-null    object\n",
      " 2   last_name   500 non-null    object\n",
      " 3   age         500 non-null    int64 \n",
      " 4   city        500 non-null    object\n",
      " 5   reg_date    500 non-null    object\n",
      " 6   plan        500 non-null    object\n",
      " 7   churn_date  34 non-null     object\n",
      "dtypes: int64(2), object(6)\n",
      "memory usage: 31.4+ KB\n"
     ]
    }
   ],
   "source": [
    "# Print the general/summary information about the users' DataFrame\n",
    "data_users.info()\n"
   ]
  },
  {
   "cell_type": "code",
   "execution_count": null,
   "metadata": {},
   "outputs": [
    {
     "data": {
      "text/html": [
       "<div>\n",
       "<style scoped>\n",
       "    .dataframe tbody tr th:only-of-type {\n",
       "        vertical-align: middle;\n",
       "    }\n",
       "\n",
       "    .dataframe tbody tr th {\n",
       "        vertical-align: top;\n",
       "    }\n",
       "\n",
       "    .dataframe thead th {\n",
       "        text-align: right;\n",
       "    }\n",
       "</style>\n",
       "<table border=\"1\" class=\"dataframe\">\n",
       "  <thead>\n",
       "    <tr style=\"text-align: right;\">\n",
       "      <th></th>\n",
       "      <th>user_id</th>\n",
       "      <th>first_name</th>\n",
       "      <th>last_name</th>\n",
       "      <th>age</th>\n",
       "      <th>city</th>\n",
       "      <th>reg_date</th>\n",
       "      <th>plan</th>\n",
       "      <th>churn_date</th>\n",
       "    </tr>\n",
       "  </thead>\n",
       "  <tbody>\n",
       "    <tr>\n",
       "      <th>0</th>\n",
       "      <td>1000</td>\n",
       "      <td>Anamaria</td>\n",
       "      <td>Bauer</td>\n",
       "      <td>45</td>\n",
       "      <td>Atlanta-Sandy Springs-Roswell, GA MSA</td>\n",
       "      <td>2018-12-24</td>\n",
       "      <td>ultimate</td>\n",
       "      <td>NaN</td>\n",
       "    </tr>\n",
       "    <tr>\n",
       "      <th>1</th>\n",
       "      <td>1001</td>\n",
       "      <td>Mickey</td>\n",
       "      <td>Wilkerson</td>\n",
       "      <td>28</td>\n",
       "      <td>Seattle-Tacoma-Bellevue, WA MSA</td>\n",
       "      <td>2018-08-13</td>\n",
       "      <td>surf</td>\n",
       "      <td>NaN</td>\n",
       "    </tr>\n",
       "    <tr>\n",
       "      <th>2</th>\n",
       "      <td>1002</td>\n",
       "      <td>Carlee</td>\n",
       "      <td>Hoffman</td>\n",
       "      <td>36</td>\n",
       "      <td>Las Vegas-Henderson-Paradise, NV MSA</td>\n",
       "      <td>2018-10-21</td>\n",
       "      <td>surf</td>\n",
       "      <td>NaN</td>\n",
       "    </tr>\n",
       "    <tr>\n",
       "      <th>3</th>\n",
       "      <td>1003</td>\n",
       "      <td>Reynaldo</td>\n",
       "      <td>Jenkins</td>\n",
       "      <td>52</td>\n",
       "      <td>Tulsa, OK MSA</td>\n",
       "      <td>2018-01-28</td>\n",
       "      <td>surf</td>\n",
       "      <td>NaN</td>\n",
       "    </tr>\n",
       "    <tr>\n",
       "      <th>4</th>\n",
       "      <td>1004</td>\n",
       "      <td>Leonila</td>\n",
       "      <td>Thompson</td>\n",
       "      <td>40</td>\n",
       "      <td>Seattle-Tacoma-Bellevue, WA MSA</td>\n",
       "      <td>2018-05-23</td>\n",
       "      <td>surf</td>\n",
       "      <td>NaN</td>\n",
       "    </tr>\n",
       "  </tbody>\n",
       "</table>\n",
       "</div>"
      ],
      "text/plain": [
       "   user_id first_name  last_name  age                                   city  \\\n",
       "0     1000   Anamaria      Bauer   45  Atlanta-Sandy Springs-Roswell, GA MSA   \n",
       "1     1001     Mickey  Wilkerson   28        Seattle-Tacoma-Bellevue, WA MSA   \n",
       "2     1002     Carlee    Hoffman   36   Las Vegas-Henderson-Paradise, NV MSA   \n",
       "3     1003   Reynaldo    Jenkins   52                          Tulsa, OK MSA   \n",
       "4     1004    Leonila   Thompson   40        Seattle-Tacoma-Bellevue, WA MSA   \n",
       "\n",
       "     reg_date      plan churn_date  \n",
       "0  2018-12-24  ultimate        NaN  \n",
       "1  2018-08-13      surf        NaN  \n",
       "2  2018-10-21      surf        NaN  \n",
       "3  2018-01-28      surf        NaN  \n",
       "4  2018-05-23      surf        NaN  "
      ]
     },
     "metadata": {},
     "output_type": "display_data"
    }
   ],
   "source": [
    "# Print a sample of data for users\n",
    "display(data_users.head())\n"
   ]
  },
  {
   "cell_type": "markdown",
   "metadata": {},
   "source": [
    "Looking at the sample, the city column contains too much information. It has city, state, and \"MSA\", which is unclear. In looking at the CSV, the city column contains multiple cities sometimes, and multiple states. If this information is going to be used in data analysis, it will need to be separated into different city, state, and \"MSA\" columns. Whether this is necessary remains to be seen.\n",
    "\n",
    "The churn date is not always available, which makes sense if the user still has an active plan. However, if there is not a churn date, the column contains a NaN value. This will need to be replaced.\n",
    "\n",
    "The dates are objects. I will change them into a date datatype."
   ]
  },
  {
   "cell_type": "markdown",
   "metadata": {},
   "source": [
    " "
   ]
  },
  {
   "cell_type": "markdown",
   "metadata": {},
   "source": [
    "I have checked for duplicates and changed the reg_date to a date datatype. I left the churn_date alone for the time being."
   ]
  },
  {
   "cell_type": "code",
   "execution_count": null,
   "metadata": {},
   "outputs": [
    {
     "name": "stdout",
     "output_type": "stream",
     "text": [
      "0\n",
      "0\n",
      "0\n",
      "<class 'pandas.core.frame.DataFrame'>\n",
      "RangeIndex: 500 entries, 0 to 499\n",
      "Data columns (total 10 columns):\n",
      " #   Column               Non-Null Count  Dtype         \n",
      "---  ------               --------------  -----         \n",
      " 0   user_id              500 non-null    int64         \n",
      " 1   first_name           500 non-null    object        \n",
      " 2   last_name            500 non-null    object        \n",
      " 3   age                  500 non-null    int64         \n",
      " 4   city                 500 non-null    object        \n",
      " 5   reg_date             500 non-null    datetime64[ns]\n",
      " 6   plan                 500 non-null    object        \n",
      " 7   churn_date           500 non-null    object        \n",
      " 8   firstname_lowercase  500 non-null    object        \n",
      " 9   lastname_lowercase   500 non-null    object        \n",
      "dtypes: datetime64[ns](1), int64(2), object(7)\n",
      "memory usage: 39.2+ KB\n"
     ]
    }
   ],
   "source": [
    "print(data_users.duplicated().sum())\n",
    "print(data_users['user_id'].duplicated().sum())\n",
    "data_users['firstname_lowercase'] = data_users['first_name'].str.lower()\n",
    "data_users['lastname_lowercase'] = data_users['last_name'].str.lower()\n",
    "print(data_users.duplicated(subset=['firstname_lowercase', 'lastname_lowercase']).sum())\n",
    "data_users['churn_date'] = data_users['churn_date'].fillna(0)\n",
    "data_users['churn_date'].isna().sum()\n",
    "data_users['reg_date'] = pd.to_datetime(data_users['reg_date'], format='%Y-%m-%d')\n",
    "#data_users['churn_date'] = pd.to_datetime(data_users['churn_date'], format='%Y-%m-%d')\n",
    "data_users.info()                                       "
   ]
  },
  {
   "cell_type": "markdown",
   "metadata": {},
   "source": [
    "Due to needing to sort data by month, I extracted the month from the date and added a column."
   ]
  },
  {
   "cell_type": "code",
   "execution_count": null,
   "metadata": {},
   "outputs": [
    {
     "data": {
      "text/html": [
       "<div>\n",
       "<style scoped>\n",
       "    .dataframe tbody tr th:only-of-type {\n",
       "        vertical-align: middle;\n",
       "    }\n",
       "\n",
       "    .dataframe tbody tr th {\n",
       "        vertical-align: top;\n",
       "    }\n",
       "\n",
       "    .dataframe thead th {\n",
       "        text-align: right;\n",
       "    }\n",
       "</style>\n",
       "<table border=\"1\" class=\"dataframe\">\n",
       "  <thead>\n",
       "    <tr style=\"text-align: right;\">\n",
       "      <th></th>\n",
       "      <th>user_id</th>\n",
       "      <th>first_name</th>\n",
       "      <th>last_name</th>\n",
       "      <th>age</th>\n",
       "      <th>city</th>\n",
       "      <th>reg_date</th>\n",
       "      <th>plan</th>\n",
       "      <th>churn_date</th>\n",
       "      <th>firstname_lowercase</th>\n",
       "      <th>lastname_lowercase</th>\n",
       "      <th>month</th>\n",
       "    </tr>\n",
       "  </thead>\n",
       "  <tbody>\n",
       "    <tr>\n",
       "      <th>0</th>\n",
       "      <td>1000</td>\n",
       "      <td>Anamaria</td>\n",
       "      <td>Bauer</td>\n",
       "      <td>45</td>\n",
       "      <td>Atlanta-Sandy Springs-Roswell, GA MSA</td>\n",
       "      <td>2018-12-24</td>\n",
       "      <td>ultimate</td>\n",
       "      <td>0</td>\n",
       "      <td>anamaria</td>\n",
       "      <td>bauer</td>\n",
       "      <td>12</td>\n",
       "    </tr>\n",
       "    <tr>\n",
       "      <th>1</th>\n",
       "      <td>1001</td>\n",
       "      <td>Mickey</td>\n",
       "      <td>Wilkerson</td>\n",
       "      <td>28</td>\n",
       "      <td>Seattle-Tacoma-Bellevue, WA MSA</td>\n",
       "      <td>2018-08-13</td>\n",
       "      <td>surf</td>\n",
       "      <td>0</td>\n",
       "      <td>mickey</td>\n",
       "      <td>wilkerson</td>\n",
       "      <td>8</td>\n",
       "    </tr>\n",
       "    <tr>\n",
       "      <th>2</th>\n",
       "      <td>1002</td>\n",
       "      <td>Carlee</td>\n",
       "      <td>Hoffman</td>\n",
       "      <td>36</td>\n",
       "      <td>Las Vegas-Henderson-Paradise, NV MSA</td>\n",
       "      <td>2018-10-21</td>\n",
       "      <td>surf</td>\n",
       "      <td>0</td>\n",
       "      <td>carlee</td>\n",
       "      <td>hoffman</td>\n",
       "      <td>10</td>\n",
       "    </tr>\n",
       "    <tr>\n",
       "      <th>3</th>\n",
       "      <td>1003</td>\n",
       "      <td>Reynaldo</td>\n",
       "      <td>Jenkins</td>\n",
       "      <td>52</td>\n",
       "      <td>Tulsa, OK MSA</td>\n",
       "      <td>2018-01-28</td>\n",
       "      <td>surf</td>\n",
       "      <td>0</td>\n",
       "      <td>reynaldo</td>\n",
       "      <td>jenkins</td>\n",
       "      <td>1</td>\n",
       "    </tr>\n",
       "    <tr>\n",
       "      <th>4</th>\n",
       "      <td>1004</td>\n",
       "      <td>Leonila</td>\n",
       "      <td>Thompson</td>\n",
       "      <td>40</td>\n",
       "      <td>Seattle-Tacoma-Bellevue, WA MSA</td>\n",
       "      <td>2018-05-23</td>\n",
       "      <td>surf</td>\n",
       "      <td>0</td>\n",
       "      <td>leonila</td>\n",
       "      <td>thompson</td>\n",
       "      <td>5</td>\n",
       "    </tr>\n",
       "  </tbody>\n",
       "</table>\n",
       "</div>"
      ],
      "text/plain": [
       "   user_id first_name  last_name  age                                   city  \\\n",
       "0     1000   Anamaria      Bauer   45  Atlanta-Sandy Springs-Roswell, GA MSA   \n",
       "1     1001     Mickey  Wilkerson   28        Seattle-Tacoma-Bellevue, WA MSA   \n",
       "2     1002     Carlee    Hoffman   36   Las Vegas-Henderson-Paradise, NV MSA   \n",
       "3     1003   Reynaldo    Jenkins   52                          Tulsa, OK MSA   \n",
       "4     1004    Leonila   Thompson   40        Seattle-Tacoma-Bellevue, WA MSA   \n",
       "\n",
       "    reg_date      plan churn_date firstname_lowercase lastname_lowercase  \\\n",
       "0 2018-12-24  ultimate          0            anamaria              bauer   \n",
       "1 2018-08-13      surf          0              mickey          wilkerson   \n",
       "2 2018-10-21      surf          0              carlee            hoffman   \n",
       "3 2018-01-28      surf          0            reynaldo            jenkins   \n",
       "4 2018-05-23      surf          0             leonila           thompson   \n",
       "\n",
       "   month  \n",
       "0     12  \n",
       "1      8  \n",
       "2     10  \n",
       "3      1  \n",
       "4      5  "
      ]
     },
     "metadata": {},
     "output_type": "display_data"
    }
   ],
   "source": [
    "data_users['month'] = data_users['reg_date'].dt.month\n",
    "display(data_users.head())"
   ]
  },
  {
   "cell_type": "markdown",
   "metadata": {},
   "source": [
    "## Calls"
   ]
  },
  {
   "cell_type": "code",
   "execution_count": null,
   "metadata": {},
   "outputs": [
    {
     "name": "stdout",
     "output_type": "stream",
     "text": [
      "<class 'pandas.core.frame.DataFrame'>\n",
      "RangeIndex: 137735 entries, 0 to 137734\n",
      "Data columns (total 4 columns):\n",
      " #   Column     Non-Null Count   Dtype  \n",
      "---  ------     --------------   -----  \n",
      " 0   id         137735 non-null  object \n",
      " 1   user_id    137735 non-null  int64  \n",
      " 2   call_date  137735 non-null  object \n",
      " 3   duration   137735 non-null  float64\n",
      "dtypes: float64(1), int64(1), object(2)\n",
      "memory usage: 4.2+ MB\n"
     ]
    }
   ],
   "source": [
    "# Print the general/summary information about the calls' DataFrame\n",
    "data_calls.info()\n"
   ]
  },
  {
   "cell_type": "code",
   "execution_count": null,
   "metadata": {},
   "outputs": [
    {
     "data": {
      "text/html": [
       "<div>\n",
       "<style scoped>\n",
       "    .dataframe tbody tr th:only-of-type {\n",
       "        vertical-align: middle;\n",
       "    }\n",
       "\n",
       "    .dataframe tbody tr th {\n",
       "        vertical-align: top;\n",
       "    }\n",
       "\n",
       "    .dataframe thead th {\n",
       "        text-align: right;\n",
       "    }\n",
       "</style>\n",
       "<table border=\"1\" class=\"dataframe\">\n",
       "  <thead>\n",
       "    <tr style=\"text-align: right;\">\n",
       "      <th></th>\n",
       "      <th>id</th>\n",
       "      <th>user_id</th>\n",
       "      <th>call_date</th>\n",
       "      <th>duration</th>\n",
       "    </tr>\n",
       "  </thead>\n",
       "  <tbody>\n",
       "    <tr>\n",
       "      <th>0</th>\n",
       "      <td>1000_93</td>\n",
       "      <td>1000</td>\n",
       "      <td>2018-12-27</td>\n",
       "      <td>8.52</td>\n",
       "    </tr>\n",
       "    <tr>\n",
       "      <th>1</th>\n",
       "      <td>1000_145</td>\n",
       "      <td>1000</td>\n",
       "      <td>2018-12-27</td>\n",
       "      <td>13.66</td>\n",
       "    </tr>\n",
       "    <tr>\n",
       "      <th>2</th>\n",
       "      <td>1000_247</td>\n",
       "      <td>1000</td>\n",
       "      <td>2018-12-27</td>\n",
       "      <td>14.48</td>\n",
       "    </tr>\n",
       "    <tr>\n",
       "      <th>3</th>\n",
       "      <td>1000_309</td>\n",
       "      <td>1000</td>\n",
       "      <td>2018-12-28</td>\n",
       "      <td>5.76</td>\n",
       "    </tr>\n",
       "    <tr>\n",
       "      <th>4</th>\n",
       "      <td>1000_380</td>\n",
       "      <td>1000</td>\n",
       "      <td>2018-12-30</td>\n",
       "      <td>4.22</td>\n",
       "    </tr>\n",
       "  </tbody>\n",
       "</table>\n",
       "</div>"
      ],
      "text/plain": [
       "         id  user_id   call_date  duration\n",
       "0   1000_93     1000  2018-12-27      8.52\n",
       "1  1000_145     1000  2018-12-27     13.66\n",
       "2  1000_247     1000  2018-12-27     14.48\n",
       "3  1000_309     1000  2018-12-28      5.76\n",
       "4  1000_380     1000  2018-12-30      4.22"
      ]
     },
     "metadata": {},
     "output_type": "display_data"
    }
   ],
   "source": [
    "# Print a sample of data for calls\n",
    "display(data_calls.head())\n"
   ]
  },
  {
   "cell_type": "markdown",
   "metadata": {},
   "source": [
    "It's a little odd that the \"id\" column is an object. It looks like the underscore is the reason, but I may try to remove the underscore and convert the datatype to int. I will also need to change the date to a datetime datatype."
   ]
  },
  {
   "cell_type": "markdown",
   "metadata": {},
   "source": [
    " "
   ]
  },
  {
   "cell_type": "markdown",
   "metadata": {},
   "source": [
    "I checked for duplicates and converted the call_date to a datetime datatype."
   ]
  },
  {
   "cell_type": "code",
   "execution_count": null,
   "metadata": {},
   "outputs": [
    {
     "name": "stdout",
     "output_type": "stream",
     "text": [
      "0\n",
      "0\n",
      "0\n"
     ]
    },
    {
     "data": {
      "text/html": [
       "<div>\n",
       "<style scoped>\n",
       "    .dataframe tbody tr th:only-of-type {\n",
       "        vertical-align: middle;\n",
       "    }\n",
       "\n",
       "    .dataframe tbody tr th {\n",
       "        vertical-align: top;\n",
       "    }\n",
       "\n",
       "    .dataframe thead th {\n",
       "        text-align: right;\n",
       "    }\n",
       "</style>\n",
       "<table border=\"1\" class=\"dataframe\">\n",
       "  <thead>\n",
       "    <tr style=\"text-align: right;\">\n",
       "      <th></th>\n",
       "      <th>id</th>\n",
       "      <th>user_id</th>\n",
       "      <th>call_date</th>\n",
       "      <th>duration</th>\n",
       "    </tr>\n",
       "  </thead>\n",
       "  <tbody>\n",
       "    <tr>\n",
       "      <th>0</th>\n",
       "      <td>100093</td>\n",
       "      <td>1000</td>\n",
       "      <td>2018-12-27</td>\n",
       "      <td>8.52</td>\n",
       "    </tr>\n",
       "    <tr>\n",
       "      <th>1</th>\n",
       "      <td>1000145</td>\n",
       "      <td>1000</td>\n",
       "      <td>2018-12-27</td>\n",
       "      <td>13.66</td>\n",
       "    </tr>\n",
       "    <tr>\n",
       "      <th>2</th>\n",
       "      <td>1000247</td>\n",
       "      <td>1000</td>\n",
       "      <td>2018-12-27</td>\n",
       "      <td>14.48</td>\n",
       "    </tr>\n",
       "    <tr>\n",
       "      <th>3</th>\n",
       "      <td>1000309</td>\n",
       "      <td>1000</td>\n",
       "      <td>2018-12-28</td>\n",
       "      <td>5.76</td>\n",
       "    </tr>\n",
       "    <tr>\n",
       "      <th>4</th>\n",
       "      <td>1000380</td>\n",
       "      <td>1000</td>\n",
       "      <td>2018-12-30</td>\n",
       "      <td>4.22</td>\n",
       "    </tr>\n",
       "  </tbody>\n",
       "</table>\n",
       "</div>"
      ],
      "text/plain": [
       "        id  user_id  call_date  duration\n",
       "0   100093     1000 2018-12-27      8.52\n",
       "1  1000145     1000 2018-12-27     13.66\n",
       "2  1000247     1000 2018-12-27     14.48\n",
       "3  1000309     1000 2018-12-28      5.76\n",
       "4  1000380     1000 2018-12-30      4.22"
      ]
     },
     "metadata": {},
     "output_type": "display_data"
    },
    {
     "name": "stdout",
     "output_type": "stream",
     "text": [
      "<class 'pandas.core.frame.DataFrame'>\n",
      "RangeIndex: 137735 entries, 0 to 137734\n",
      "Data columns (total 4 columns):\n",
      " #   Column     Non-Null Count   Dtype         \n",
      "---  ------     --------------   -----         \n",
      " 0   id         137735 non-null  int64         \n",
      " 1   user_id    137735 non-null  int64         \n",
      " 2   call_date  137735 non-null  datetime64[ns]\n",
      " 3   duration   137735 non-null  float64       \n",
      "dtypes: datetime64[ns](1), float64(1), int64(2)\n",
      "memory usage: 4.2 MB\n"
     ]
    }
   ],
   "source": [
    "data_calls['id'] = data_calls['id'].astype('int')\n",
    "\n",
    "print(data_calls.duplicated().sum())\n",
    "print(data_calls['id'].duplicated().sum())\n",
    "print(data_calls.duplicated(subset=['id', 'user_id']).sum())\n",
    "data_calls['call_date'] = pd.to_datetime(data_calls['call_date'], format='%Y-%m-%d')\n",
    "\n",
    "\n",
    "display(data_calls.head())\n",
    "data_calls.info()"
   ]
  },
  {
   "cell_type": "markdown",
   "metadata": {},
   "source": [
    "<div class=\"alert alert-block alert-warning\">\n",
    "<b>Reviewer's comment</b> <a class=\"tocSkip\"></a>\n",
    "\n",
    "To be precise we need to round up minutes (np.ceil for example).\n",
    "</div>"
   ]
  },
  {
   "cell_type": "markdown",
   "metadata": {},
   "source": [
    "Due to needing to sort data by month, I extracted the month from the date and added a column."
   ]
  },
  {
   "cell_type": "code",
   "execution_count": null,
   "metadata": {},
   "outputs": [
    {
     "data": {
      "text/html": [
       "<div>\n",
       "<style scoped>\n",
       "    .dataframe tbody tr th:only-of-type {\n",
       "        vertical-align: middle;\n",
       "    }\n",
       "\n",
       "    .dataframe tbody tr th {\n",
       "        vertical-align: top;\n",
       "    }\n",
       "\n",
       "    .dataframe thead th {\n",
       "        text-align: right;\n",
       "    }\n",
       "</style>\n",
       "<table border=\"1\" class=\"dataframe\">\n",
       "  <thead>\n",
       "    <tr style=\"text-align: right;\">\n",
       "      <th></th>\n",
       "      <th>id</th>\n",
       "      <th>user_id</th>\n",
       "      <th>call_date</th>\n",
       "      <th>duration</th>\n",
       "      <th>month</th>\n",
       "    </tr>\n",
       "  </thead>\n",
       "  <tbody>\n",
       "    <tr>\n",
       "      <th>0</th>\n",
       "      <td>100093</td>\n",
       "      <td>1000</td>\n",
       "      <td>2018-12-27</td>\n",
       "      <td>8.52</td>\n",
       "      <td>12</td>\n",
       "    </tr>\n",
       "    <tr>\n",
       "      <th>1</th>\n",
       "      <td>1000145</td>\n",
       "      <td>1000</td>\n",
       "      <td>2018-12-27</td>\n",
       "      <td>13.66</td>\n",
       "      <td>12</td>\n",
       "    </tr>\n",
       "    <tr>\n",
       "      <th>2</th>\n",
       "      <td>1000247</td>\n",
       "      <td>1000</td>\n",
       "      <td>2018-12-27</td>\n",
       "      <td>14.48</td>\n",
       "      <td>12</td>\n",
       "    </tr>\n",
       "    <tr>\n",
       "      <th>3</th>\n",
       "      <td>1000309</td>\n",
       "      <td>1000</td>\n",
       "      <td>2018-12-28</td>\n",
       "      <td>5.76</td>\n",
       "      <td>12</td>\n",
       "    </tr>\n",
       "    <tr>\n",
       "      <th>4</th>\n",
       "      <td>1000380</td>\n",
       "      <td>1000</td>\n",
       "      <td>2018-12-30</td>\n",
       "      <td>4.22</td>\n",
       "      <td>12</td>\n",
       "    </tr>\n",
       "  </tbody>\n",
       "</table>\n",
       "</div>"
      ],
      "text/plain": [
       "        id  user_id  call_date  duration  month\n",
       "0   100093     1000 2018-12-27      8.52     12\n",
       "1  1000145     1000 2018-12-27     13.66     12\n",
       "2  1000247     1000 2018-12-27     14.48     12\n",
       "3  1000309     1000 2018-12-28      5.76     12\n",
       "4  1000380     1000 2018-12-30      4.22     12"
      ]
     },
     "metadata": {},
     "output_type": "display_data"
    }
   ],
   "source": [
    "data_calls['month'] = data_calls['call_date'].dt.month\n",
    "display(data_calls.head())\n"
   ]
  },
  {
   "cell_type": "markdown",
   "metadata": {},
   "source": [
    "## Messages"
   ]
  },
  {
   "cell_type": "code",
   "execution_count": null,
   "metadata": {},
   "outputs": [
    {
     "name": "stdout",
     "output_type": "stream",
     "text": [
      "<class 'pandas.core.frame.DataFrame'>\n",
      "RangeIndex: 76051 entries, 0 to 76050\n",
      "Data columns (total 3 columns):\n",
      " #   Column        Non-Null Count  Dtype \n",
      "---  ------        --------------  ----- \n",
      " 0   id            76051 non-null  object\n",
      " 1   user_id       76051 non-null  int64 \n",
      " 2   message_date  76051 non-null  object\n",
      "dtypes: int64(1), object(2)\n",
      "memory usage: 1.7+ MB\n"
     ]
    }
   ],
   "source": [
    "# Print the general/summary information about the messages' DataFrame\n",
    "data_messages.info()\n"
   ]
  },
  {
   "cell_type": "code",
   "execution_count": null,
   "metadata": {},
   "outputs": [
    {
     "data": {
      "text/html": [
       "<div>\n",
       "<style scoped>\n",
       "    .dataframe tbody tr th:only-of-type {\n",
       "        vertical-align: middle;\n",
       "    }\n",
       "\n",
       "    .dataframe tbody tr th {\n",
       "        vertical-align: top;\n",
       "    }\n",
       "\n",
       "    .dataframe thead th {\n",
       "        text-align: right;\n",
       "    }\n",
       "</style>\n",
       "<table border=\"1\" class=\"dataframe\">\n",
       "  <thead>\n",
       "    <tr style=\"text-align: right;\">\n",
       "      <th></th>\n",
       "      <th>id</th>\n",
       "      <th>user_id</th>\n",
       "      <th>message_date</th>\n",
       "    </tr>\n",
       "  </thead>\n",
       "  <tbody>\n",
       "    <tr>\n",
       "      <th>0</th>\n",
       "      <td>1000_125</td>\n",
       "      <td>1000</td>\n",
       "      <td>2018-12-27</td>\n",
       "    </tr>\n",
       "    <tr>\n",
       "      <th>1</th>\n",
       "      <td>1000_160</td>\n",
       "      <td>1000</td>\n",
       "      <td>2018-12-31</td>\n",
       "    </tr>\n",
       "    <tr>\n",
       "      <th>2</th>\n",
       "      <td>1000_223</td>\n",
       "      <td>1000</td>\n",
       "      <td>2018-12-31</td>\n",
       "    </tr>\n",
       "    <tr>\n",
       "      <th>3</th>\n",
       "      <td>1000_251</td>\n",
       "      <td>1000</td>\n",
       "      <td>2018-12-27</td>\n",
       "    </tr>\n",
       "    <tr>\n",
       "      <th>4</th>\n",
       "      <td>1000_255</td>\n",
       "      <td>1000</td>\n",
       "      <td>2018-12-26</td>\n",
       "    </tr>\n",
       "  </tbody>\n",
       "</table>\n",
       "</div>"
      ],
      "text/plain": [
       "         id  user_id message_date\n",
       "0  1000_125     1000   2018-12-27\n",
       "1  1000_160     1000   2018-12-31\n",
       "2  1000_223     1000   2018-12-31\n",
       "3  1000_251     1000   2018-12-27\n",
       "4  1000_255     1000   2018-12-26"
      ]
     },
     "metadata": {},
     "output_type": "display_data"
    }
   ],
   "source": [
    "# Print a sample of data for messages\n",
    "display(data_messages.head())\n"
   ]
  },
  {
   "cell_type": "markdown",
   "metadata": {},
   "source": [
    "The \"id\" is an object due to the underscore again. I will need to look at that, and the date as an object as well."
   ]
  },
  {
   "cell_type": "markdown",
   "metadata": {},
   "source": [
    " "
   ]
  },
  {
   "cell_type": "markdown",
   "metadata": {},
   "source": [
    "I converted the \"id\" field to int. I also checked for duplicates again and converted the message_date to the datetime datatype."
   ]
  },
  {
   "cell_type": "code",
   "execution_count": null,
   "metadata": {},
   "outputs": [
    {
     "name": "stdout",
     "output_type": "stream",
     "text": [
      "0\n",
      "0\n",
      "0\n"
     ]
    },
    {
     "data": {
      "text/html": [
       "<div>\n",
       "<style scoped>\n",
       "    .dataframe tbody tr th:only-of-type {\n",
       "        vertical-align: middle;\n",
       "    }\n",
       "\n",
       "    .dataframe tbody tr th {\n",
       "        vertical-align: top;\n",
       "    }\n",
       "\n",
       "    .dataframe thead th {\n",
       "        text-align: right;\n",
       "    }\n",
       "</style>\n",
       "<table border=\"1\" class=\"dataframe\">\n",
       "  <thead>\n",
       "    <tr style=\"text-align: right;\">\n",
       "      <th></th>\n",
       "      <th>id</th>\n",
       "      <th>user_id</th>\n",
       "      <th>message_date</th>\n",
       "    </tr>\n",
       "  </thead>\n",
       "  <tbody>\n",
       "    <tr>\n",
       "      <th>0</th>\n",
       "      <td>1000125</td>\n",
       "      <td>1000</td>\n",
       "      <td>2018-12-27</td>\n",
       "    </tr>\n",
       "    <tr>\n",
       "      <th>1</th>\n",
       "      <td>1000160</td>\n",
       "      <td>1000</td>\n",
       "      <td>2018-12-31</td>\n",
       "    </tr>\n",
       "    <tr>\n",
       "      <th>2</th>\n",
       "      <td>1000223</td>\n",
       "      <td>1000</td>\n",
       "      <td>2018-12-31</td>\n",
       "    </tr>\n",
       "    <tr>\n",
       "      <th>3</th>\n",
       "      <td>1000251</td>\n",
       "      <td>1000</td>\n",
       "      <td>2018-12-27</td>\n",
       "    </tr>\n",
       "    <tr>\n",
       "      <th>4</th>\n",
       "      <td>1000255</td>\n",
       "      <td>1000</td>\n",
       "      <td>2018-12-26</td>\n",
       "    </tr>\n",
       "  </tbody>\n",
       "</table>\n",
       "</div>"
      ],
      "text/plain": [
       "        id  user_id message_date\n",
       "0  1000125     1000   2018-12-27\n",
       "1  1000160     1000   2018-12-31\n",
       "2  1000223     1000   2018-12-31\n",
       "3  1000251     1000   2018-12-27\n",
       "4  1000255     1000   2018-12-26"
      ]
     },
     "metadata": {},
     "output_type": "display_data"
    },
    {
     "name": "stdout",
     "output_type": "stream",
     "text": [
      "<class 'pandas.core.frame.DataFrame'>\n",
      "RangeIndex: 76051 entries, 0 to 76050\n",
      "Data columns (total 3 columns):\n",
      " #   Column        Non-Null Count  Dtype         \n",
      "---  ------        --------------  -----         \n",
      " 0   id            76051 non-null  int64         \n",
      " 1   user_id       76051 non-null  int64         \n",
      " 2   message_date  76051 non-null  datetime64[ns]\n",
      "dtypes: datetime64[ns](1), int64(2)\n",
      "memory usage: 1.7 MB\n"
     ]
    }
   ],
   "source": [
    "data_messages['id'] = data_messages['id'].astype('int')\n",
    "\n",
    "print(data_messages.duplicated().sum())\n",
    "print(data_messages['id'].duplicated().sum())\n",
    "print(data_messages.duplicated(subset=['id', 'user_id']).sum())\n",
    "data_messages['message_date'] = pd.to_datetime(data_messages['message_date'], format='%Y-%m-%d')\n",
    "\n",
    "display(data_messages.head())\n",
    "data_messages.info()"
   ]
  },
  {
   "cell_type": "markdown",
   "metadata": {},
   "source": [
    "Due to needing to sort data by month, I extracted the month from the date and added a column."
   ]
  },
  {
   "cell_type": "code",
   "execution_count": null,
   "metadata": {},
   "outputs": [
    {
     "data": {
      "text/html": [
       "<div>\n",
       "<style scoped>\n",
       "    .dataframe tbody tr th:only-of-type {\n",
       "        vertical-align: middle;\n",
       "    }\n",
       "\n",
       "    .dataframe tbody tr th {\n",
       "        vertical-align: top;\n",
       "    }\n",
       "\n",
       "    .dataframe thead th {\n",
       "        text-align: right;\n",
       "    }\n",
       "</style>\n",
       "<table border=\"1\" class=\"dataframe\">\n",
       "  <thead>\n",
       "    <tr style=\"text-align: right;\">\n",
       "      <th></th>\n",
       "      <th>id</th>\n",
       "      <th>user_id</th>\n",
       "      <th>message_date</th>\n",
       "      <th>month</th>\n",
       "    </tr>\n",
       "  </thead>\n",
       "  <tbody>\n",
       "    <tr>\n",
       "      <th>0</th>\n",
       "      <td>1000125</td>\n",
       "      <td>1000</td>\n",
       "      <td>2018-12-27</td>\n",
       "      <td>12</td>\n",
       "    </tr>\n",
       "    <tr>\n",
       "      <th>1</th>\n",
       "      <td>1000160</td>\n",
       "      <td>1000</td>\n",
       "      <td>2018-12-31</td>\n",
       "      <td>12</td>\n",
       "    </tr>\n",
       "    <tr>\n",
       "      <th>2</th>\n",
       "      <td>1000223</td>\n",
       "      <td>1000</td>\n",
       "      <td>2018-12-31</td>\n",
       "      <td>12</td>\n",
       "    </tr>\n",
       "    <tr>\n",
       "      <th>3</th>\n",
       "      <td>1000251</td>\n",
       "      <td>1000</td>\n",
       "      <td>2018-12-27</td>\n",
       "      <td>12</td>\n",
       "    </tr>\n",
       "    <tr>\n",
       "      <th>4</th>\n",
       "      <td>1000255</td>\n",
       "      <td>1000</td>\n",
       "      <td>2018-12-26</td>\n",
       "      <td>12</td>\n",
       "    </tr>\n",
       "  </tbody>\n",
       "</table>\n",
       "</div>"
      ],
      "text/plain": [
       "        id  user_id message_date  month\n",
       "0  1000125     1000   2018-12-27     12\n",
       "1  1000160     1000   2018-12-31     12\n",
       "2  1000223     1000   2018-12-31     12\n",
       "3  1000251     1000   2018-12-27     12\n",
       "4  1000255     1000   2018-12-26     12"
      ]
     },
     "metadata": {},
     "output_type": "display_data"
    }
   ],
   "source": [
    "data_messages['month'] = data_messages['message_date'].dt.month\n",
    "display(data_messages.head())\n"
   ]
  },
  {
   "cell_type": "markdown",
   "metadata": {},
   "source": [
    "## Internet"
   ]
  },
  {
   "cell_type": "code",
   "execution_count": null,
   "metadata": {},
   "outputs": [
    {
     "name": "stdout",
     "output_type": "stream",
     "text": [
      "<class 'pandas.core.frame.DataFrame'>\n",
      "RangeIndex: 104825 entries, 0 to 104824\n",
      "Data columns (total 4 columns):\n",
      " #   Column        Non-Null Count   Dtype  \n",
      "---  ------        --------------   -----  \n",
      " 0   id            104825 non-null  object \n",
      " 1   user_id       104825 non-null  int64  \n",
      " 2   session_date  104825 non-null  object \n",
      " 3   mb_used       104825 non-null  float64\n",
      "dtypes: float64(1), int64(1), object(2)\n",
      "memory usage: 3.2+ MB\n"
     ]
    }
   ],
   "source": [
    "# Print the general/summary information about the internet DataFrame\n",
    "data_internet.info()\n"
   ]
  },
  {
   "cell_type": "code",
   "execution_count": null,
   "metadata": {},
   "outputs": [
    {
     "data": {
      "text/html": [
       "<div>\n",
       "<style scoped>\n",
       "    .dataframe tbody tr th:only-of-type {\n",
       "        vertical-align: middle;\n",
       "    }\n",
       "\n",
       "    .dataframe tbody tr th {\n",
       "        vertical-align: top;\n",
       "    }\n",
       "\n",
       "    .dataframe thead th {\n",
       "        text-align: right;\n",
       "    }\n",
       "</style>\n",
       "<table border=\"1\" class=\"dataframe\">\n",
       "  <thead>\n",
       "    <tr style=\"text-align: right;\">\n",
       "      <th></th>\n",
       "      <th>id</th>\n",
       "      <th>user_id</th>\n",
       "      <th>session_date</th>\n",
       "      <th>mb_used</th>\n",
       "    </tr>\n",
       "  </thead>\n",
       "  <tbody>\n",
       "    <tr>\n",
       "      <th>0</th>\n",
       "      <td>1000_13</td>\n",
       "      <td>1000</td>\n",
       "      <td>2018-12-29</td>\n",
       "      <td>89.86</td>\n",
       "    </tr>\n",
       "    <tr>\n",
       "      <th>1</th>\n",
       "      <td>1000_204</td>\n",
       "      <td>1000</td>\n",
       "      <td>2018-12-31</td>\n",
       "      <td>0.00</td>\n",
       "    </tr>\n",
       "    <tr>\n",
       "      <th>2</th>\n",
       "      <td>1000_379</td>\n",
       "      <td>1000</td>\n",
       "      <td>2018-12-28</td>\n",
       "      <td>660.40</td>\n",
       "    </tr>\n",
       "    <tr>\n",
       "      <th>3</th>\n",
       "      <td>1000_413</td>\n",
       "      <td>1000</td>\n",
       "      <td>2018-12-26</td>\n",
       "      <td>270.99</td>\n",
       "    </tr>\n",
       "    <tr>\n",
       "      <th>4</th>\n",
       "      <td>1000_442</td>\n",
       "      <td>1000</td>\n",
       "      <td>2018-12-27</td>\n",
       "      <td>880.22</td>\n",
       "    </tr>\n",
       "  </tbody>\n",
       "</table>\n",
       "</div>"
      ],
      "text/plain": [
       "         id  user_id session_date  mb_used\n",
       "0   1000_13     1000   2018-12-29    89.86\n",
       "1  1000_204     1000   2018-12-31     0.00\n",
       "2  1000_379     1000   2018-12-28   660.40\n",
       "3  1000_413     1000   2018-12-26   270.99\n",
       "4  1000_442     1000   2018-12-27   880.22"
      ]
     },
     "metadata": {},
     "output_type": "display_data"
    }
   ],
   "source": [
    "# Print a sample of data for the internet traffic\n",
    "display(data_internet.head())\n"
   ]
  },
  {
   "cell_type": "markdown",
   "metadata": {},
   "source": [
    "Data is charged by the gb and documented by the mb. However, it does not look like large amounts (gigabytes) of data are used. I will need to consider how to analyze this further. As before, \"id\" and session_date are objects and will need to be converted to int and datetime, respectively."
   ]
  },
  {
   "cell_type": "markdown",
   "metadata": {},
   "source": [
    "I converted the id column to int and the session_date column to the datetime datatype. I also checked for duplicates."
   ]
  },
  {
   "cell_type": "code",
   "execution_count": null,
   "metadata": {},
   "outputs": [
    {
     "name": "stdout",
     "output_type": "stream",
     "text": [
      "0\n",
      "0\n",
      "0\n"
     ]
    },
    {
     "data": {
      "text/html": [
       "<div>\n",
       "<style scoped>\n",
       "    .dataframe tbody tr th:only-of-type {\n",
       "        vertical-align: middle;\n",
       "    }\n",
       "\n",
       "    .dataframe tbody tr th {\n",
       "        vertical-align: top;\n",
       "    }\n",
       "\n",
       "    .dataframe thead th {\n",
       "        text-align: right;\n",
       "    }\n",
       "</style>\n",
       "<table border=\"1\" class=\"dataframe\">\n",
       "  <thead>\n",
       "    <tr style=\"text-align: right;\">\n",
       "      <th></th>\n",
       "      <th>id</th>\n",
       "      <th>user_id</th>\n",
       "      <th>session_date</th>\n",
       "      <th>mb_used</th>\n",
       "    </tr>\n",
       "  </thead>\n",
       "  <tbody>\n",
       "    <tr>\n",
       "      <th>0</th>\n",
       "      <td>100013</td>\n",
       "      <td>1000</td>\n",
       "      <td>2018-12-29</td>\n",
       "      <td>89.86</td>\n",
       "    </tr>\n",
       "    <tr>\n",
       "      <th>1</th>\n",
       "      <td>1000204</td>\n",
       "      <td>1000</td>\n",
       "      <td>2018-12-31</td>\n",
       "      <td>0.00</td>\n",
       "    </tr>\n",
       "    <tr>\n",
       "      <th>2</th>\n",
       "      <td>1000379</td>\n",
       "      <td>1000</td>\n",
       "      <td>2018-12-28</td>\n",
       "      <td>660.40</td>\n",
       "    </tr>\n",
       "    <tr>\n",
       "      <th>3</th>\n",
       "      <td>1000413</td>\n",
       "      <td>1000</td>\n",
       "      <td>2018-12-26</td>\n",
       "      <td>270.99</td>\n",
       "    </tr>\n",
       "    <tr>\n",
       "      <th>4</th>\n",
       "      <td>1000442</td>\n",
       "      <td>1000</td>\n",
       "      <td>2018-12-27</td>\n",
       "      <td>880.22</td>\n",
       "    </tr>\n",
       "  </tbody>\n",
       "</table>\n",
       "</div>"
      ],
      "text/plain": [
       "        id  user_id session_date  mb_used\n",
       "0   100013     1000   2018-12-29    89.86\n",
       "1  1000204     1000   2018-12-31     0.00\n",
       "2  1000379     1000   2018-12-28   660.40\n",
       "3  1000413     1000   2018-12-26   270.99\n",
       "4  1000442     1000   2018-12-27   880.22"
      ]
     },
     "metadata": {},
     "output_type": "display_data"
    },
    {
     "name": "stdout",
     "output_type": "stream",
     "text": [
      "<class 'pandas.core.frame.DataFrame'>\n",
      "RangeIndex: 104825 entries, 0 to 104824\n",
      "Data columns (total 4 columns):\n",
      " #   Column        Non-Null Count   Dtype         \n",
      "---  ------        --------------   -----         \n",
      " 0   id            104825 non-null  int64         \n",
      " 1   user_id       104825 non-null  int64         \n",
      " 2   session_date  104825 non-null  datetime64[ns]\n",
      " 3   mb_used       104825 non-null  float64       \n",
      "dtypes: datetime64[ns](1), float64(1), int64(2)\n",
      "memory usage: 3.2 MB\n"
     ]
    }
   ],
   "source": [
    "data_internet['id'] = data_internet['id'].astype('int')\n",
    "\n",
    "print(data_internet.duplicated().sum())\n",
    "print(data_internet['id'].duplicated().sum())\n",
    "print(data_internet.duplicated(subset=['id', 'user_id']).sum())\n",
    "data_internet['session_date'] = pd.to_datetime(data_internet['session_date'], format='%Y-%m-%d')\n",
    "\n",
    "\n",
    "display(data_internet.head())\n",
    "data_internet.info()"
   ]
  },
  {
   "cell_type": "markdown",
   "metadata": {},
   "source": [
    "Due to needing to sort data by month, I extracted the month from the date and added a column."
   ]
  },
  {
   "cell_type": "code",
   "execution_count": null,
   "metadata": {},
   "outputs": [
    {
     "data": {
      "text/html": [
       "<div>\n",
       "<style scoped>\n",
       "    .dataframe tbody tr th:only-of-type {\n",
       "        vertical-align: middle;\n",
       "    }\n",
       "\n",
       "    .dataframe tbody tr th {\n",
       "        vertical-align: top;\n",
       "    }\n",
       "\n",
       "    .dataframe thead th {\n",
       "        text-align: right;\n",
       "    }\n",
       "</style>\n",
       "<table border=\"1\" class=\"dataframe\">\n",
       "  <thead>\n",
       "    <tr style=\"text-align: right;\">\n",
       "      <th></th>\n",
       "      <th>id</th>\n",
       "      <th>user_id</th>\n",
       "      <th>session_date</th>\n",
       "      <th>mb_used</th>\n",
       "      <th>month</th>\n",
       "    </tr>\n",
       "  </thead>\n",
       "  <tbody>\n",
       "    <tr>\n",
       "      <th>0</th>\n",
       "      <td>100013</td>\n",
       "      <td>1000</td>\n",
       "      <td>2018-12-29</td>\n",
       "      <td>89.86</td>\n",
       "      <td>12</td>\n",
       "    </tr>\n",
       "    <tr>\n",
       "      <th>1</th>\n",
       "      <td>1000204</td>\n",
       "      <td>1000</td>\n",
       "      <td>2018-12-31</td>\n",
       "      <td>0.00</td>\n",
       "      <td>12</td>\n",
       "    </tr>\n",
       "    <tr>\n",
       "      <th>2</th>\n",
       "      <td>1000379</td>\n",
       "      <td>1000</td>\n",
       "      <td>2018-12-28</td>\n",
       "      <td>660.40</td>\n",
       "      <td>12</td>\n",
       "    </tr>\n",
       "    <tr>\n",
       "      <th>3</th>\n",
       "      <td>1000413</td>\n",
       "      <td>1000</td>\n",
       "      <td>2018-12-26</td>\n",
       "      <td>270.99</td>\n",
       "      <td>12</td>\n",
       "    </tr>\n",
       "    <tr>\n",
       "      <th>4</th>\n",
       "      <td>1000442</td>\n",
       "      <td>1000</td>\n",
       "      <td>2018-12-27</td>\n",
       "      <td>880.22</td>\n",
       "      <td>12</td>\n",
       "    </tr>\n",
       "  </tbody>\n",
       "</table>\n",
       "</div>"
      ],
      "text/plain": [
       "        id  user_id session_date  mb_used  month\n",
       "0   100013     1000   2018-12-29    89.86     12\n",
       "1  1000204     1000   2018-12-31     0.00     12\n",
       "2  1000379     1000   2018-12-28   660.40     12\n",
       "3  1000413     1000   2018-12-26   270.99     12\n",
       "4  1000442     1000   2018-12-27   880.22     12"
      ]
     },
     "metadata": {},
     "output_type": "display_data"
    }
   ],
   "source": [
    "data_internet['month'] = data_internet['session_date'].dt.month\n",
    "display(data_internet.head())"
   ]
  },
  {
   "cell_type": "markdown",
   "metadata": {},
   "source": [
    "I printed out the plan conditions to make sure I had them available readily."
   ]
  },
  {
   "cell_type": "code",
   "execution_count": null,
   "metadata": {},
   "outputs": [
    {
     "data": {
      "text/html": [
       "<div>\n",
       "<style scoped>\n",
       "    .dataframe tbody tr th:only-of-type {\n",
       "        vertical-align: middle;\n",
       "    }\n",
       "\n",
       "    .dataframe tbody tr th {\n",
       "        vertical-align: top;\n",
       "    }\n",
       "\n",
       "    .dataframe thead th {\n",
       "        text-align: right;\n",
       "    }\n",
       "</style>\n",
       "<table border=\"1\" class=\"dataframe\">\n",
       "  <thead>\n",
       "    <tr style=\"text-align: right;\">\n",
       "      <th></th>\n",
       "      <th>messages_included</th>\n",
       "      <th>mb_per_month_included</th>\n",
       "      <th>minutes_included</th>\n",
       "      <th>usd_monthly_pay</th>\n",
       "      <th>usd_per_gb</th>\n",
       "      <th>usd_per_message</th>\n",
       "      <th>usd_per_minute</th>\n",
       "      <th>plan_name</th>\n",
       "      <th>gb_per_month_included</th>\n",
       "    </tr>\n",
       "  </thead>\n",
       "  <tbody>\n",
       "    <tr>\n",
       "      <th>0</th>\n",
       "      <td>50</td>\n",
       "      <td>15360</td>\n",
       "      <td>500</td>\n",
       "      <td>20</td>\n",
       "      <td>10</td>\n",
       "      <td>0.03</td>\n",
       "      <td>0.03</td>\n",
       "      <td>surf</td>\n",
       "      <td>15.36</td>\n",
       "    </tr>\n",
       "    <tr>\n",
       "      <th>1</th>\n",
       "      <td>1000</td>\n",
       "      <td>30720</td>\n",
       "      <td>3000</td>\n",
       "      <td>70</td>\n",
       "      <td>7</td>\n",
       "      <td>0.01</td>\n",
       "      <td>0.01</td>\n",
       "      <td>ultimate</td>\n",
       "      <td>30.72</td>\n",
       "    </tr>\n",
       "  </tbody>\n",
       "</table>\n",
       "</div>"
      ],
      "text/plain": [
       "   messages_included  mb_per_month_included  minutes_included  \\\n",
       "0                 50                  15360               500   \n",
       "1               1000                  30720              3000   \n",
       "\n",
       "   usd_monthly_pay  usd_per_gb  usd_per_message  usd_per_minute plan_name  \\\n",
       "0               20          10             0.03            0.03      surf   \n",
       "1               70           7             0.01            0.01  ultimate   \n",
       "\n",
       "   gb_per_month_included  \n",
       "0                  15.36  \n",
       "1                  30.72  "
      ]
     },
     "metadata": {},
     "output_type": "display_data"
    }
   ],
   "source": [
    "display(data_plans.head())\n"
   ]
  },
  {
   "cell_type": "markdown",
   "metadata": {},
   "source": [
    "## Aggregate data per user\n",
    "\n",
    "I aggregated data by month and user_id and then grouped by id and counted the number of calls. I then added up the total number of minutes per user per month. I did the same thing with the number of messages and the amount of data for the internet usage."
   ]
  },
  {
   "cell_type": "code",
   "execution_count": null,
   "metadata": {},
   "outputs": [
    {
     "name": "stdout",
     "output_type": "stream",
     "text": [
      "user_id  month\n",
      "1000     12       16\n",
      "1001     8        27\n",
      "         9        49\n",
      "         10       65\n",
      "         11       64\n",
      "                  ..\n",
      "1498     12       39\n",
      "1499     9        41\n",
      "         10       53\n",
      "         11       45\n",
      "         12       65\n",
      "Name: id, Length: 2258, dtype: int64\n"
     ]
    }
   ],
   "source": [
    "# Calculate the number of calls made by each user per month. Save the result.\n",
    "grp = data_calls.groupby(['user_id', 'month'])\n",
    "call_sum = grp['id'].count()\n",
    "print(call_sum)\n",
    "\n"
   ]
  },
  {
   "cell_type": "code",
   "execution_count": null,
   "metadata": {},
   "outputs": [
    {
     "name": "stdout",
     "output_type": "stream",
     "text": [
      "user_id  month\n",
      "1000     12       116.83\n",
      "1001     8        171.14\n",
      "         9        297.69\n",
      "         10       374.11\n",
      "         11       404.59\n",
      "                   ...  \n",
      "1498     12       324.77\n",
      "1499     9        330.37\n",
      "         10       363.28\n",
      "         11       288.56\n",
      "         12       468.10\n",
      "Name: duration, Length: 2258, dtype: float64\n"
     ]
    }
   ],
   "source": [
    "# Calculate the amount of minutes spent by each user per month. Save the result.\n",
    "total_minutes = grp['duration'].sum()\n",
    "print(total_minutes)"
   ]
  },
  {
   "cell_type": "code",
   "execution_count": null,
   "metadata": {},
   "outputs": [
    {
     "name": "stdout",
     "output_type": "stream",
     "text": [
      "user_id  month\n",
      "1000     12       11\n",
      "1001     8        30\n",
      "         9        44\n",
      "         10       53\n",
      "         11       36\n",
      "                  ..\n",
      "1496     9        21\n",
      "         10       18\n",
      "         11       13\n",
      "         12       11\n",
      "1497     12       50\n",
      "Name: id, Length: 1806, dtype: int64\n"
     ]
    }
   ],
   "source": [
    "# Calculate the number of messages sent by each user per month. Save the result.\n",
    "grp1 = data_messages.groupby(['user_id', 'month'])\n",
    "user_messages = grp1['id'].count()\n",
    "print(user_messages)\n"
   ]
  },
  {
   "cell_type": "code",
   "execution_count": null,
   "metadata": {},
   "outputs": [
    {
     "name": "stdout",
     "output_type": "stream",
     "text": [
      "user_id  month\n",
      "1000     12        1901.47\n",
      "1001     8         6919.15\n",
      "         9        13314.82\n",
      "         10       22330.49\n",
      "         11       18504.30\n",
      "                    ...   \n",
      "1498     12       23137.69\n",
      "1499     9        12984.76\n",
      "         10       19492.43\n",
      "         11       16813.83\n",
      "         12       22059.21\n",
      "Name: mb_used, Length: 2277, dtype: float64\n"
     ]
    }
   ],
   "source": [
    "# Calculate the volume of internet traffic used by each user per month. Save the result.\n",
    "#display(data_internet.head())\n",
    "grp2 = data_internet.groupby(['user_id', 'month'])\n",
    "internet_traffic = grp2['mb_used'].sum()\n",
    "print(internet_traffic)"
   ]
  },
  {
   "cell_type": "markdown",
   "metadata": {},
   "source": [
    "I concatenated all the data together and reset the index so that the user ID and month would be included as columns instead. I then merged the user_info DataFrame and dropped the irrelevant columns so that the plan information was part of the new DataFrame as well. I noticed that a couple of columns were missing data that could be filled in with zeroes, so I did that and converted certain columns to an int datatype, as they would not have decimals. I also added a region column in preparation for testing the final hypothesis."
   ]
  },
  {
   "cell_type": "code",
   "execution_count": null,
   "metadata": {},
   "outputs": [
    {
     "name": "stdout",
     "output_type": "stream",
     "text": [
      "      user_id  month  number_calls  total_minutes  total_messages  \\\n",
      "0        1000     12          16.0         116.83            11.0   \n",
      "1        1001      8          27.0         171.14            30.0   \n",
      "2        1001      9          49.0         297.69            44.0   \n",
      "3        1001     10          65.0         374.11            53.0   \n",
      "4        1001     11          64.0         404.59            36.0   \n",
      "...       ...    ...           ...            ...             ...   \n",
      "2288     1498     12          39.0         324.77             NaN   \n",
      "2289     1499      9          41.0         330.37             NaN   \n",
      "2290     1499     10          53.0         363.28             NaN   \n",
      "2291     1499     11          45.0         288.56             NaN   \n",
      "2292     1499     12          65.0         468.10             NaN   \n",
      "\n",
      "      internet_traffic  \n",
      "0              1901.47  \n",
      "1              6919.15  \n",
      "2             13314.82  \n",
      "3             22330.49  \n",
      "4             18504.30  \n",
      "...                ...  \n",
      "2288          23137.69  \n",
      "2289          12984.76  \n",
      "2290          19492.43  \n",
      "2291          16813.83  \n",
      "2292          22059.21  \n",
      "\n",
      "[2293 rows x 6 columns]\n"
     ]
    }
   ],
   "source": [
    "# Merge the data for calls, minutes, messages, internet based on user_id and month\n",
    "user_info = pd.concat([call_sum, total_minutes, user_messages, internet_traffic],axis='columns')\n",
    "user_info.columns= ['number_calls', 'total_minutes', 'total_messages', 'internet_traffic']\n",
    "user_info.reset_index(inplace=True)\n",
    "print(user_info)\n"
   ]
  },
  {
   "cell_type": "code",
   "execution_count": null,
   "metadata": {},
   "outputs": [
    {
     "name": "stdout",
     "output_type": "stream",
     "text": [
      "<class 'pandas.core.frame.DataFrame'>\n",
      "Int64Index: 2293 entries, 0 to 2292\n",
      "Data columns (total 7 columns):\n",
      " #   Column            Non-Null Count  Dtype  \n",
      "---  ------            --------------  -----  \n",
      " 0   user_id           2293 non-null   int64  \n",
      " 1   month_x           2293 non-null   int64  \n",
      " 2   number_calls      2258 non-null   float64\n",
      " 3   total_minutes     2258 non-null   float64\n",
      " 4   total_messages    1806 non-null   float64\n",
      " 5   internet_traffic  2277 non-null   float64\n",
      " 6   plan              2293 non-null   object \n",
      "dtypes: float64(4), int64(2), object(1)\n",
      "memory usage: 143.3+ KB\n"
     ]
    },
    {
     "data": {
      "text/html": [
       "<div>\n",
       "<style scoped>\n",
       "    .dataframe tbody tr th:only-of-type {\n",
       "        vertical-align: middle;\n",
       "    }\n",
       "\n",
       "    .dataframe tbody tr th {\n",
       "        vertical-align: top;\n",
       "    }\n",
       "\n",
       "    .dataframe thead th {\n",
       "        text-align: right;\n",
       "    }\n",
       "</style>\n",
       "<table border=\"1\" class=\"dataframe\">\n",
       "  <thead>\n",
       "    <tr style=\"text-align: right;\">\n",
       "      <th></th>\n",
       "      <th>user_id</th>\n",
       "      <th>month_x</th>\n",
       "      <th>number_calls</th>\n",
       "      <th>total_minutes</th>\n",
       "      <th>total_messages</th>\n",
       "      <th>internet_traffic</th>\n",
       "      <th>plan</th>\n",
       "    </tr>\n",
       "  </thead>\n",
       "  <tbody>\n",
       "    <tr>\n",
       "      <th>0</th>\n",
       "      <td>1000</td>\n",
       "      <td>12</td>\n",
       "      <td>16.0</td>\n",
       "      <td>116.83</td>\n",
       "      <td>11.0</td>\n",
       "      <td>1901.47</td>\n",
       "      <td>ultimate</td>\n",
       "    </tr>\n",
       "    <tr>\n",
       "      <th>1</th>\n",
       "      <td>1001</td>\n",
       "      <td>8</td>\n",
       "      <td>27.0</td>\n",
       "      <td>171.14</td>\n",
       "      <td>30.0</td>\n",
       "      <td>6919.15</td>\n",
       "      <td>surf</td>\n",
       "    </tr>\n",
       "    <tr>\n",
       "      <th>2</th>\n",
       "      <td>1001</td>\n",
       "      <td>9</td>\n",
       "      <td>49.0</td>\n",
       "      <td>297.69</td>\n",
       "      <td>44.0</td>\n",
       "      <td>13314.82</td>\n",
       "      <td>surf</td>\n",
       "    </tr>\n",
       "    <tr>\n",
       "      <th>3</th>\n",
       "      <td>1001</td>\n",
       "      <td>10</td>\n",
       "      <td>65.0</td>\n",
       "      <td>374.11</td>\n",
       "      <td>53.0</td>\n",
       "      <td>22330.49</td>\n",
       "      <td>surf</td>\n",
       "    </tr>\n",
       "    <tr>\n",
       "      <th>4</th>\n",
       "      <td>1001</td>\n",
       "      <td>11</td>\n",
       "      <td>64.0</td>\n",
       "      <td>404.59</td>\n",
       "      <td>36.0</td>\n",
       "      <td>18504.30</td>\n",
       "      <td>surf</td>\n",
       "    </tr>\n",
       "  </tbody>\n",
       "</table>\n",
       "</div>"
      ],
      "text/plain": [
       "   user_id  month_x  number_calls  total_minutes  total_messages  \\\n",
       "0     1000       12          16.0         116.83            11.0   \n",
       "1     1001        8          27.0         171.14            30.0   \n",
       "2     1001        9          49.0         297.69            44.0   \n",
       "3     1001       10          65.0         374.11            53.0   \n",
       "4     1001       11          64.0         404.59            36.0   \n",
       "\n",
       "   internet_traffic      plan  \n",
       "0           1901.47  ultimate  \n",
       "1           6919.15      surf  \n",
       "2          13314.82      surf  \n",
       "3          22330.49      surf  \n",
       "4          18504.30      surf  "
      ]
     },
     "metadata": {},
     "output_type": "display_data"
    },
    {
     "name": "stdout",
     "output_type": "stream",
     "text": [
      "user_id             500\n",
      "month_x             500\n",
      "number_calls        493\n",
      "total_minutes       493\n",
      "total_messages      378\n",
      "internet_traffic    499\n",
      "plan                500\n",
      "region              500\n",
      "dtype: int64\n",
      "<class 'pandas.core.frame.DataFrame'>\n",
      "Int64Index: 2293 entries, 0 to 2292\n",
      "Data columns (total 9 columns):\n",
      " #   Column               Non-Null Count  Dtype  \n",
      "---  ------               --------------  -----  \n",
      " 0   user_id              2293 non-null   int64  \n",
      " 1   month_x              2293 non-null   int64  \n",
      " 2   number_calls         2293 non-null   int64  \n",
      " 3   total_minutes        2293 non-null   float64\n",
      " 4   total_messages       2293 non-null   int64  \n",
      " 5   internet_traffic     2293 non-null   float64\n",
      " 6   plan                 2293 non-null   object \n",
      " 7   region               2293 non-null   object \n",
      " 8   internet_traffic_gb  2293 non-null   float64\n",
      "dtypes: float64(3), int64(4), object(2)\n",
      "memory usage: 243.7+ KB\n"
     ]
    },
    {
     "data": {
      "text/html": [
       "<div>\n",
       "<style scoped>\n",
       "    .dataframe tbody tr th:only-of-type {\n",
       "        vertical-align: middle;\n",
       "    }\n",
       "\n",
       "    .dataframe tbody tr th {\n",
       "        vertical-align: top;\n",
       "    }\n",
       "\n",
       "    .dataframe thead th {\n",
       "        text-align: right;\n",
       "    }\n",
       "</style>\n",
       "<table border=\"1\" class=\"dataframe\">\n",
       "  <thead>\n",
       "    <tr style=\"text-align: right;\">\n",
       "      <th></th>\n",
       "      <th>user_id</th>\n",
       "      <th>month_x</th>\n",
       "      <th>number_calls</th>\n",
       "      <th>total_minutes</th>\n",
       "      <th>total_messages</th>\n",
       "      <th>internet_traffic</th>\n",
       "      <th>plan</th>\n",
       "      <th>region</th>\n",
       "      <th>internet_traffic_gb</th>\n",
       "    </tr>\n",
       "  </thead>\n",
       "  <tbody>\n",
       "    <tr>\n",
       "      <th>951</th>\n",
       "      <td>1197</td>\n",
       "      <td>11</td>\n",
       "      <td>88</td>\n",
       "      <td>566.13</td>\n",
       "      <td>11</td>\n",
       "      <td>11032.60</td>\n",
       "      <td>surf</td>\n",
       "      <td>None</td>\n",
       "      <td>11.03260</td>\n",
       "    </tr>\n",
       "    <tr>\n",
       "      <th>1345</th>\n",
       "      <td>1290</td>\n",
       "      <td>11</td>\n",
       "      <td>18</td>\n",
       "      <td>97.91</td>\n",
       "      <td>50</td>\n",
       "      <td>8938.66</td>\n",
       "      <td>surf</td>\n",
       "      <td>None</td>\n",
       "      <td>8.93866</td>\n",
       "    </tr>\n",
       "    <tr>\n",
       "      <th>264</th>\n",
       "      <td>1060</td>\n",
       "      <td>10</td>\n",
       "      <td>98</td>\n",
       "      <td>643.38</td>\n",
       "      <td>74</td>\n",
       "      <td>24445.77</td>\n",
       "      <td>surf</td>\n",
       "      <td>NY-NJ</td>\n",
       "      <td>24.44577</td>\n",
       "    </tr>\n",
       "    <tr>\n",
       "      <th>288</th>\n",
       "      <td>1064</td>\n",
       "      <td>6</td>\n",
       "      <td>24</td>\n",
       "      <td>142.45</td>\n",
       "      <td>3</td>\n",
       "      <td>6572.23</td>\n",
       "      <td>surf</td>\n",
       "      <td>NY-NJ</td>\n",
       "      <td>6.57223</td>\n",
       "    </tr>\n",
       "    <tr>\n",
       "      <th>7</th>\n",
       "      <td>1002</td>\n",
       "      <td>11</td>\n",
       "      <td>55</td>\n",
       "      <td>359.76</td>\n",
       "      <td>32</td>\n",
       "      <td>19345.08</td>\n",
       "      <td>surf</td>\n",
       "      <td>NY-NJ</td>\n",
       "      <td>19.34508</td>\n",
       "    </tr>\n",
       "    <tr>\n",
       "      <th>1268</th>\n",
       "      <td>1265</td>\n",
       "      <td>12</td>\n",
       "      <td>40</td>\n",
       "      <td>196.17</td>\n",
       "      <td>0</td>\n",
       "      <td>28051.14</td>\n",
       "      <td>surf</td>\n",
       "      <td>None</td>\n",
       "      <td>28.05114</td>\n",
       "    </tr>\n",
       "    <tr>\n",
       "      <th>555</th>\n",
       "      <td>1117</td>\n",
       "      <td>12</td>\n",
       "      <td>40</td>\n",
       "      <td>288.11</td>\n",
       "      <td>0</td>\n",
       "      <td>25026.19</td>\n",
       "      <td>surf</td>\n",
       "      <td>None</td>\n",
       "      <td>25.02619</td>\n",
       "    </tr>\n",
       "    <tr>\n",
       "      <th>124</th>\n",
       "      <td>1033</td>\n",
       "      <td>12</td>\n",
       "      <td>98</td>\n",
       "      <td>552.76</td>\n",
       "      <td>32</td>\n",
       "      <td>21003.90</td>\n",
       "      <td>ultimate</td>\n",
       "      <td>NY-NJ</td>\n",
       "      <td>21.00390</td>\n",
       "    </tr>\n",
       "    <tr>\n",
       "      <th>29</th>\n",
       "      <td>1009</td>\n",
       "      <td>5</td>\n",
       "      <td>71</td>\n",
       "      <td>498.93</td>\n",
       "      <td>0</td>\n",
       "      <td>20389.40</td>\n",
       "      <td>surf</td>\n",
       "      <td>NY-NJ</td>\n",
       "      <td>20.38940</td>\n",
       "    </tr>\n",
       "    <tr>\n",
       "      <th>1505</th>\n",
       "      <td>1328</td>\n",
       "      <td>5</td>\n",
       "      <td>104</td>\n",
       "      <td>787.01</td>\n",
       "      <td>149</td>\n",
       "      <td>30365.39</td>\n",
       "      <td>surf</td>\n",
       "      <td>None</td>\n",
       "      <td>30.36539</td>\n",
       "    </tr>\n",
       "    <tr>\n",
       "      <th>1922</th>\n",
       "      <td>1409</td>\n",
       "      <td>12</td>\n",
       "      <td>46</td>\n",
       "      <td>310.88</td>\n",
       "      <td>21</td>\n",
       "      <td>17510.94</td>\n",
       "      <td>ultimate</td>\n",
       "      <td>None</td>\n",
       "      <td>17.51094</td>\n",
       "    </tr>\n",
       "    <tr>\n",
       "      <th>855</th>\n",
       "      <td>1179</td>\n",
       "      <td>8</td>\n",
       "      <td>79</td>\n",
       "      <td>562.36</td>\n",
       "      <td>19</td>\n",
       "      <td>16530.82</td>\n",
       "      <td>surf</td>\n",
       "      <td>None</td>\n",
       "      <td>16.53082</td>\n",
       "    </tr>\n",
       "    <tr>\n",
       "      <th>1287</th>\n",
       "      <td>1272</td>\n",
       "      <td>11</td>\n",
       "      <td>5</td>\n",
       "      <td>28.02</td>\n",
       "      <td>3</td>\n",
       "      <td>2468.54</td>\n",
       "      <td>surf</td>\n",
       "      <td>None</td>\n",
       "      <td>2.46854</td>\n",
       "    </tr>\n",
       "    <tr>\n",
       "      <th>613</th>\n",
       "      <td>1130</td>\n",
       "      <td>11</td>\n",
       "      <td>80</td>\n",
       "      <td>554.18</td>\n",
       "      <td>89</td>\n",
       "      <td>13800.91</td>\n",
       "      <td>surf</td>\n",
       "      <td>None</td>\n",
       "      <td>13.80091</td>\n",
       "    </tr>\n",
       "    <tr>\n",
       "      <th>1646</th>\n",
       "      <td>1357</td>\n",
       "      <td>10</td>\n",
       "      <td>7</td>\n",
       "      <td>49.04</td>\n",
       "      <td>4</td>\n",
       "      <td>1994.02</td>\n",
       "      <td>surf</td>\n",
       "      <td>None</td>\n",
       "      <td>1.99402</td>\n",
       "    </tr>\n",
       "    <tr>\n",
       "      <th>1063</th>\n",
       "      <td>1223</td>\n",
       "      <td>8</td>\n",
       "      <td>101</td>\n",
       "      <td>703.56</td>\n",
       "      <td>22</td>\n",
       "      <td>20398.48</td>\n",
       "      <td>surf</td>\n",
       "      <td>None</td>\n",
       "      <td>20.39848</td>\n",
       "    </tr>\n",
       "    <tr>\n",
       "      <th>1077</th>\n",
       "      <td>1226</td>\n",
       "      <td>10</td>\n",
       "      <td>71</td>\n",
       "      <td>434.99</td>\n",
       "      <td>0</td>\n",
       "      <td>17487.17</td>\n",
       "      <td>ultimate</td>\n",
       "      <td>None</td>\n",
       "      <td>17.48717</td>\n",
       "    </tr>\n",
       "    <tr>\n",
       "      <th>1596</th>\n",
       "      <td>1346</td>\n",
       "      <td>9</td>\n",
       "      <td>50</td>\n",
       "      <td>398.60</td>\n",
       "      <td>61</td>\n",
       "      <td>18006.84</td>\n",
       "      <td>ultimate</td>\n",
       "      <td>None</td>\n",
       "      <td>18.00684</td>\n",
       "    </tr>\n",
       "    <tr>\n",
       "      <th>460</th>\n",
       "      <td>1098</td>\n",
       "      <td>11</td>\n",
       "      <td>68</td>\n",
       "      <td>432.31</td>\n",
       "      <td>89</td>\n",
       "      <td>31063.77</td>\n",
       "      <td>surf</td>\n",
       "      <td>NY-NJ</td>\n",
       "      <td>31.06377</td>\n",
       "    </tr>\n",
       "    <tr>\n",
       "      <th>2274</th>\n",
       "      <td>1496</td>\n",
       "      <td>10</td>\n",
       "      <td>46</td>\n",
       "      <td>301.16</td>\n",
       "      <td>18</td>\n",
       "      <td>14287.36</td>\n",
       "      <td>surf</td>\n",
       "      <td>None</td>\n",
       "      <td>14.28736</td>\n",
       "    </tr>\n",
       "    <tr>\n",
       "      <th>2175</th>\n",
       "      <td>1472</td>\n",
       "      <td>6</td>\n",
       "      <td>95</td>\n",
       "      <td>623.53</td>\n",
       "      <td>36</td>\n",
       "      <td>18977.18</td>\n",
       "      <td>surf</td>\n",
       "      <td>None</td>\n",
       "      <td>18.97718</td>\n",
       "    </tr>\n",
       "    <tr>\n",
       "      <th>259</th>\n",
       "      <td>1059</td>\n",
       "      <td>10</td>\n",
       "      <td>86</td>\n",
       "      <td>683.78</td>\n",
       "      <td>58</td>\n",
       "      <td>17544.16</td>\n",
       "      <td>ultimate</td>\n",
       "      <td>NY-NJ</td>\n",
       "      <td>17.54416</td>\n",
       "    </tr>\n",
       "    <tr>\n",
       "      <th>1137</th>\n",
       "      <td>1242</td>\n",
       "      <td>10</td>\n",
       "      <td>39</td>\n",
       "      <td>236.50</td>\n",
       "      <td>66</td>\n",
       "      <td>10893.72</td>\n",
       "      <td>surf</td>\n",
       "      <td>None</td>\n",
       "      <td>10.89372</td>\n",
       "    </tr>\n",
       "    <tr>\n",
       "      <th>444</th>\n",
       "      <td>1095</td>\n",
       "      <td>6</td>\n",
       "      <td>16</td>\n",
       "      <td>79.94</td>\n",
       "      <td>7</td>\n",
       "      <td>12560.20</td>\n",
       "      <td>surf</td>\n",
       "      <td>NY-NJ</td>\n",
       "      <td>12.56020</td>\n",
       "    </tr>\n",
       "    <tr>\n",
       "      <th>1710</th>\n",
       "      <td>1367</td>\n",
       "      <td>8</td>\n",
       "      <td>23</td>\n",
       "      <td>147.37</td>\n",
       "      <td>0</td>\n",
       "      <td>19263.99</td>\n",
       "      <td>surf</td>\n",
       "      <td>None</td>\n",
       "      <td>19.26399</td>\n",
       "    </tr>\n",
       "  </tbody>\n",
       "</table>\n",
       "</div>"
      ],
      "text/plain": [
       "      user_id  month_x  number_calls  total_minutes  total_messages  \\\n",
       "951      1197       11            88         566.13              11   \n",
       "1345     1290       11            18          97.91              50   \n",
       "264      1060       10            98         643.38              74   \n",
       "288      1064        6            24         142.45               3   \n",
       "7        1002       11            55         359.76              32   \n",
       "1268     1265       12            40         196.17               0   \n",
       "555      1117       12            40         288.11               0   \n",
       "124      1033       12            98         552.76              32   \n",
       "29       1009        5            71         498.93               0   \n",
       "1505     1328        5           104         787.01             149   \n",
       "1922     1409       12            46         310.88              21   \n",
       "855      1179        8            79         562.36              19   \n",
       "1287     1272       11             5          28.02               3   \n",
       "613      1130       11            80         554.18              89   \n",
       "1646     1357       10             7          49.04               4   \n",
       "1063     1223        8           101         703.56              22   \n",
       "1077     1226       10            71         434.99               0   \n",
       "1596     1346        9            50         398.60              61   \n",
       "460      1098       11            68         432.31              89   \n",
       "2274     1496       10            46         301.16              18   \n",
       "2175     1472        6            95         623.53              36   \n",
       "259      1059       10            86         683.78              58   \n",
       "1137     1242       10            39         236.50              66   \n",
       "444      1095        6            16          79.94               7   \n",
       "1710     1367        8            23         147.37               0   \n",
       "\n",
       "      internet_traffic      plan region  internet_traffic_gb  \n",
       "951           11032.60      surf   None             11.03260  \n",
       "1345           8938.66      surf   None              8.93866  \n",
       "264           24445.77      surf  NY-NJ             24.44577  \n",
       "288            6572.23      surf  NY-NJ              6.57223  \n",
       "7             19345.08      surf  NY-NJ             19.34508  \n",
       "1268          28051.14      surf   None             28.05114  \n",
       "555           25026.19      surf   None             25.02619  \n",
       "124           21003.90  ultimate  NY-NJ             21.00390  \n",
       "29            20389.40      surf  NY-NJ             20.38940  \n",
       "1505          30365.39      surf   None             30.36539  \n",
       "1922          17510.94  ultimate   None             17.51094  \n",
       "855           16530.82      surf   None             16.53082  \n",
       "1287           2468.54      surf   None              2.46854  \n",
       "613           13800.91      surf   None             13.80091  \n",
       "1646           1994.02      surf   None              1.99402  \n",
       "1063          20398.48      surf   None             20.39848  \n",
       "1077          17487.17  ultimate   None             17.48717  \n",
       "1596          18006.84  ultimate   None             18.00684  \n",
       "460           31063.77      surf  NY-NJ             31.06377  \n",
       "2274          14287.36      surf   None             14.28736  \n",
       "2175          18977.18      surf   None             18.97718  \n",
       "259           17544.16  ultimate  NY-NJ             17.54416  \n",
       "1137          10893.72      surf   None             10.89372  \n",
       "444           12560.20      surf  NY-NJ             12.56020  \n",
       "1710          19263.99      surf   None             19.26399  "
      ]
     },
     "metadata": {},
     "output_type": "display_data"
    }
   ],
   "source": [
    "# Add the plan information\n",
    "updated_user_info = user_info.merge(data_users, on='user_id')\n",
    "updated_user_info = updated_user_info.drop(['first_name', \n",
    "                                            'last_name', \n",
    "                                            'age', \n",
    "                                            'city',\n",
    "                                            'reg_date',\n",
    "                                            'churn_date',\n",
    "                                            'firstname_lowercase',\n",
    "                                            'lastname_lowercase',\n",
    "                                            'month_y'], \n",
    "                                             axis='columns')\n",
    "updated_user_info.info()\n",
    "display(updated_user_info.head())\n",
    "for index, row in data_users.iterrows():\n",
    "    if 'NY' or 'NJ' in row['city']:\n",
    "        updated_user_info.loc[index, 'region'] = 'NY-NJ'\n",
    "        #updated_user_info['region'] = 'NY-NJ'\n",
    "    else:\n",
    "        updated_user_info.loc[index, 'region'] = 'N/A'\n",
    "    \n",
    "\n",
    "print(updated_user_info[updated_user_info['region'] == 'NY-NJ'].count())    \n",
    "\n",
    "updated_user_info['number_calls'] = updated_user_info['number_calls'].fillna(0)\n",
    "updated_user_info['total_minutes'] = updated_user_info['total_minutes'].fillna(0)\n",
    "updated_user_info['total_messages'] = updated_user_info['total_messages'].fillna(0)\n",
    "updated_user_info['internet_traffic'] = updated_user_info['internet_traffic'].fillna(0)\n",
    "updated_user_info['region'] = updated_user_info['region'].fillna('None')\n",
    "\n",
    "updated_user_info['number_calls'] = updated_user_info['number_calls'].astype('int')\n",
    "updated_user_info['total_messages'] = updated_user_info['total_messages'].astype('int')\n",
    "updated_user_info['internet_traffic_gb'] = updated_user_info['internet_traffic'] / 1000\n",
    "\n",
    "updated_user_info.info()\n",
    "display(updated_user_info.sample(25))\n"
   ]
  },
  {
   "cell_type": "markdown",
   "metadata": {},
   "source": [
    "For each plan, I calculated the total revenue based on the plan information. If the \"revenue\" wound up being a negative number, I replaced it with a zero. After these calculations, I added the base price to the total."
   ]
  },
  {
   "cell_type": "code",
   "execution_count": null,
   "metadata": {},
   "outputs": [
    {
     "data": {
      "text/html": [
       "<div>\n",
       "<style scoped>\n",
       "    .dataframe tbody tr th:only-of-type {\n",
       "        vertical-align: middle;\n",
       "    }\n",
       "\n",
       "    .dataframe tbody tr th {\n",
       "        vertical-align: top;\n",
       "    }\n",
       "\n",
       "    .dataframe thead th {\n",
       "        text-align: right;\n",
       "    }\n",
       "</style>\n",
       "<table border=\"1\" class=\"dataframe\">\n",
       "  <thead>\n",
       "    <tr style=\"text-align: right;\">\n",
       "      <th></th>\n",
       "      <th>user_id</th>\n",
       "      <th>month_x</th>\n",
       "      <th>number_calls</th>\n",
       "      <th>total_minutes</th>\n",
       "      <th>total_messages</th>\n",
       "      <th>internet_traffic</th>\n",
       "      <th>plan</th>\n",
       "      <th>region</th>\n",
       "      <th>internet_traffic_gb</th>\n",
       "      <th>revenue</th>\n",
       "    </tr>\n",
       "  </thead>\n",
       "  <tbody>\n",
       "    <tr>\n",
       "      <th>528</th>\n",
       "      <td>1111</td>\n",
       "      <td>12</td>\n",
       "      <td>38</td>\n",
       "      <td>342.26</td>\n",
       "      <td>92</td>\n",
       "      <td>14857.96</td>\n",
       "      <td>surf</td>\n",
       "      <td>None</td>\n",
       "      <td>14.85796</td>\n",
       "      <td>20.0</td>\n",
       "    </tr>\n",
       "    <tr>\n",
       "      <th>1926</th>\n",
       "      <td>1411</td>\n",
       "      <td>8</td>\n",
       "      <td>39</td>\n",
       "      <td>239.84</td>\n",
       "      <td>0</td>\n",
       "      <td>8987.55</td>\n",
       "      <td>surf</td>\n",
       "      <td>None</td>\n",
       "      <td>8.98755</td>\n",
       "      <td>20.0</td>\n",
       "    </tr>\n",
       "    <tr>\n",
       "      <th>1579</th>\n",
       "      <td>1341</td>\n",
       "      <td>11</td>\n",
       "      <td>91</td>\n",
       "      <td>653.24</td>\n",
       "      <td>75</td>\n",
       "      <td>22828.85</td>\n",
       "      <td>surf</td>\n",
       "      <td>None</td>\n",
       "      <td>22.82885</td>\n",
       "      <td>20.0</td>\n",
       "    </tr>\n",
       "    <tr>\n",
       "      <th>739</th>\n",
       "      <td>1155</td>\n",
       "      <td>7</td>\n",
       "      <td>24</td>\n",
       "      <td>130.26</td>\n",
       "      <td>27</td>\n",
       "      <td>20407.80</td>\n",
       "      <td>ultimate</td>\n",
       "      <td>None</td>\n",
       "      <td>20.40780</td>\n",
       "      <td>70.0</td>\n",
       "    </tr>\n",
       "    <tr>\n",
       "      <th>179</th>\n",
       "      <td>1044</td>\n",
       "      <td>12</td>\n",
       "      <td>39</td>\n",
       "      <td>295.03</td>\n",
       "      <td>31</td>\n",
       "      <td>15473.81</td>\n",
       "      <td>surf</td>\n",
       "      <td>NY-NJ</td>\n",
       "      <td>15.47381</td>\n",
       "      <td>20.0</td>\n",
       "    </tr>\n",
       "    <tr>\n",
       "      <th>2078</th>\n",
       "      <td>1448</td>\n",
       "      <td>11</td>\n",
       "      <td>36</td>\n",
       "      <td>224.46</td>\n",
       "      <td>55</td>\n",
       "      <td>12481.52</td>\n",
       "      <td>surf</td>\n",
       "      <td>None</td>\n",
       "      <td>12.48152</td>\n",
       "      <td>20.0</td>\n",
       "    </tr>\n",
       "    <tr>\n",
       "      <th>1049</th>\n",
       "      <td>1220</td>\n",
       "      <td>8</td>\n",
       "      <td>66</td>\n",
       "      <td>544.35</td>\n",
       "      <td>33</td>\n",
       "      <td>24289.51</td>\n",
       "      <td>surf</td>\n",
       "      <td>None</td>\n",
       "      <td>24.28951</td>\n",
       "      <td>20.0</td>\n",
       "    </tr>\n",
       "    <tr>\n",
       "      <th>831</th>\n",
       "      <td>1173</td>\n",
       "      <td>9</td>\n",
       "      <td>10</td>\n",
       "      <td>68.98</td>\n",
       "      <td>9</td>\n",
       "      <td>409.43</td>\n",
       "      <td>surf</td>\n",
       "      <td>None</td>\n",
       "      <td>0.40943</td>\n",
       "      <td>20.0</td>\n",
       "    </tr>\n",
       "    <tr>\n",
       "      <th>1180</th>\n",
       "      <td>1251</td>\n",
       "      <td>7</td>\n",
       "      <td>88</td>\n",
       "      <td>548.64</td>\n",
       "      <td>39</td>\n",
       "      <td>22913.54</td>\n",
       "      <td>surf</td>\n",
       "      <td>None</td>\n",
       "      <td>22.91354</td>\n",
       "      <td>20.0</td>\n",
       "    </tr>\n",
       "    <tr>\n",
       "      <th>275</th>\n",
       "      <td>1061</td>\n",
       "      <td>12</td>\n",
       "      <td>83</td>\n",
       "      <td>496.63</td>\n",
       "      <td>93</td>\n",
       "      <td>23815.85</td>\n",
       "      <td>ultimate</td>\n",
       "      <td>NY-NJ</td>\n",
       "      <td>23.81585</td>\n",
       "      <td>70.0</td>\n",
       "    </tr>\n",
       "    <tr>\n",
       "      <th>1514</th>\n",
       "      <td>1329</td>\n",
       "      <td>9</td>\n",
       "      <td>168</td>\n",
       "      <td>1154.30</td>\n",
       "      <td>91</td>\n",
       "      <td>26519.82</td>\n",
       "      <td>ultimate</td>\n",
       "      <td>None</td>\n",
       "      <td>26.51982</td>\n",
       "      <td>70.0</td>\n",
       "    </tr>\n",
       "    <tr>\n",
       "      <th>1311</th>\n",
       "      <td>1280</td>\n",
       "      <td>6</td>\n",
       "      <td>11</td>\n",
       "      <td>61.06</td>\n",
       "      <td>11</td>\n",
       "      <td>4861.67</td>\n",
       "      <td>surf</td>\n",
       "      <td>None</td>\n",
       "      <td>4.86167</td>\n",
       "      <td>20.0</td>\n",
       "    </tr>\n",
       "    <tr>\n",
       "      <th>444</th>\n",
       "      <td>1095</td>\n",
       "      <td>6</td>\n",
       "      <td>16</td>\n",
       "      <td>79.94</td>\n",
       "      <td>7</td>\n",
       "      <td>12560.20</td>\n",
       "      <td>surf</td>\n",
       "      <td>NY-NJ</td>\n",
       "      <td>12.56020</td>\n",
       "      <td>20.0</td>\n",
       "    </tr>\n",
       "    <tr>\n",
       "      <th>1831</th>\n",
       "      <td>1394</td>\n",
       "      <td>10</td>\n",
       "      <td>60</td>\n",
       "      <td>340.37</td>\n",
       "      <td>20</td>\n",
       "      <td>18905.48</td>\n",
       "      <td>surf</td>\n",
       "      <td>None</td>\n",
       "      <td>18.90548</td>\n",
       "      <td>20.0</td>\n",
       "    </tr>\n",
       "    <tr>\n",
       "      <th>623</th>\n",
       "      <td>1132</td>\n",
       "      <td>4</td>\n",
       "      <td>59</td>\n",
       "      <td>334.08</td>\n",
       "      <td>72</td>\n",
       "      <td>15651.16</td>\n",
       "      <td>ultimate</td>\n",
       "      <td>None</td>\n",
       "      <td>15.65116</td>\n",
       "      <td>70.0</td>\n",
       "    </tr>\n",
       "    <tr>\n",
       "      <th>1933</th>\n",
       "      <td>1412</td>\n",
       "      <td>8</td>\n",
       "      <td>140</td>\n",
       "      <td>868.99</td>\n",
       "      <td>54</td>\n",
       "      <td>14893.45</td>\n",
       "      <td>ultimate</td>\n",
       "      <td>None</td>\n",
       "      <td>14.89345</td>\n",
       "      <td>70.0</td>\n",
       "    </tr>\n",
       "    <tr>\n",
       "      <th>1552</th>\n",
       "      <td>1336</td>\n",
       "      <td>7</td>\n",
       "      <td>108</td>\n",
       "      <td>842.40</td>\n",
       "      <td>83</td>\n",
       "      <td>15982.41</td>\n",
       "      <td>surf</td>\n",
       "      <td>None</td>\n",
       "      <td>15.98241</td>\n",
       "      <td>20.0</td>\n",
       "    </tr>\n",
       "    <tr>\n",
       "      <th>564</th>\n",
       "      <td>1120</td>\n",
       "      <td>8</td>\n",
       "      <td>55</td>\n",
       "      <td>386.57</td>\n",
       "      <td>47</td>\n",
       "      <td>19046.98</td>\n",
       "      <td>surf</td>\n",
       "      <td>None</td>\n",
       "      <td>19.04698</td>\n",
       "      <td>20.0</td>\n",
       "    </tr>\n",
       "    <tr>\n",
       "      <th>1150</th>\n",
       "      <td>1245</td>\n",
       "      <td>12</td>\n",
       "      <td>50</td>\n",
       "      <td>350.74</td>\n",
       "      <td>9</td>\n",
       "      <td>4821.57</td>\n",
       "      <td>surf</td>\n",
       "      <td>None</td>\n",
       "      <td>4.82157</td>\n",
       "      <td>20.0</td>\n",
       "    </tr>\n",
       "    <tr>\n",
       "      <th>1966</th>\n",
       "      <td>1419</td>\n",
       "      <td>12</td>\n",
       "      <td>117</td>\n",
       "      <td>792.39</td>\n",
       "      <td>144</td>\n",
       "      <td>19306.89</td>\n",
       "      <td>surf</td>\n",
       "      <td>None</td>\n",
       "      <td>19.30689</td>\n",
       "      <td>20.0</td>\n",
       "    </tr>\n",
       "    <tr>\n",
       "      <th>1299</th>\n",
       "      <td>1277</td>\n",
       "      <td>6</td>\n",
       "      <td>97</td>\n",
       "      <td>636.36</td>\n",
       "      <td>0</td>\n",
       "      <td>21632.19</td>\n",
       "      <td>surf</td>\n",
       "      <td>None</td>\n",
       "      <td>21.63219</td>\n",
       "      <td>20.0</td>\n",
       "    </tr>\n",
       "    <tr>\n",
       "      <th>793</th>\n",
       "      <td>1164</td>\n",
       "      <td>12</td>\n",
       "      <td>44</td>\n",
       "      <td>332.21</td>\n",
       "      <td>26</td>\n",
       "      <td>16078.19</td>\n",
       "      <td>ultimate</td>\n",
       "      <td>None</td>\n",
       "      <td>16.07819</td>\n",
       "      <td>70.0</td>\n",
       "    </tr>\n",
       "    <tr>\n",
       "      <th>305</th>\n",
       "      <td>1066</td>\n",
       "      <td>9</td>\n",
       "      <td>66</td>\n",
       "      <td>482.48</td>\n",
       "      <td>31</td>\n",
       "      <td>20870.81</td>\n",
       "      <td>surf</td>\n",
       "      <td>NY-NJ</td>\n",
       "      <td>20.87081</td>\n",
       "      <td>20.0</td>\n",
       "    </tr>\n",
       "    <tr>\n",
       "      <th>716</th>\n",
       "      <td>1150</td>\n",
       "      <td>12</td>\n",
       "      <td>76</td>\n",
       "      <td>455.45</td>\n",
       "      <td>0</td>\n",
       "      <td>12881.10</td>\n",
       "      <td>ultimate</td>\n",
       "      <td>None</td>\n",
       "      <td>12.88110</td>\n",
       "      <td>70.0</td>\n",
       "    </tr>\n",
       "    <tr>\n",
       "      <th>1716</th>\n",
       "      <td>1368</td>\n",
       "      <td>6</td>\n",
       "      <td>93</td>\n",
       "      <td>679.95</td>\n",
       "      <td>0</td>\n",
       "      <td>18506.74</td>\n",
       "      <td>ultimate</td>\n",
       "      <td>None</td>\n",
       "      <td>18.50674</td>\n",
       "      <td>70.0</td>\n",
       "    </tr>\n",
       "  </tbody>\n",
       "</table>\n",
       "</div>"
      ],
      "text/plain": [
       "      user_id  month_x  number_calls  total_minutes  total_messages  \\\n",
       "528      1111       12            38         342.26              92   \n",
       "1926     1411        8            39         239.84               0   \n",
       "1579     1341       11            91         653.24              75   \n",
       "739      1155        7            24         130.26              27   \n",
       "179      1044       12            39         295.03              31   \n",
       "2078     1448       11            36         224.46              55   \n",
       "1049     1220        8            66         544.35              33   \n",
       "831      1173        9            10          68.98               9   \n",
       "1180     1251        7            88         548.64              39   \n",
       "275      1061       12            83         496.63              93   \n",
       "1514     1329        9           168        1154.30              91   \n",
       "1311     1280        6            11          61.06              11   \n",
       "444      1095        6            16          79.94               7   \n",
       "1831     1394       10            60         340.37              20   \n",
       "623      1132        4            59         334.08              72   \n",
       "1933     1412        8           140         868.99              54   \n",
       "1552     1336        7           108         842.40              83   \n",
       "564      1120        8            55         386.57              47   \n",
       "1150     1245       12            50         350.74               9   \n",
       "1966     1419       12           117         792.39             144   \n",
       "1299     1277        6            97         636.36               0   \n",
       "793      1164       12            44         332.21              26   \n",
       "305      1066        9            66         482.48              31   \n",
       "716      1150       12            76         455.45               0   \n",
       "1716     1368        6            93         679.95               0   \n",
       "\n",
       "      internet_traffic      plan region  internet_traffic_gb  revenue  \n",
       "528           14857.96      surf   None             14.85796     20.0  \n",
       "1926           8987.55      surf   None              8.98755     20.0  \n",
       "1579          22828.85      surf   None             22.82885     20.0  \n",
       "739           20407.80  ultimate   None             20.40780     70.0  \n",
       "179           15473.81      surf  NY-NJ             15.47381     20.0  \n",
       "2078          12481.52      surf   None             12.48152     20.0  \n",
       "1049          24289.51      surf   None             24.28951     20.0  \n",
       "831             409.43      surf   None              0.40943     20.0  \n",
       "1180          22913.54      surf   None             22.91354     20.0  \n",
       "275           23815.85  ultimate  NY-NJ             23.81585     70.0  \n",
       "1514          26519.82  ultimate   None             26.51982     70.0  \n",
       "1311           4861.67      surf   None              4.86167     20.0  \n",
       "444           12560.20      surf  NY-NJ             12.56020     20.0  \n",
       "1831          18905.48      surf   None             18.90548     20.0  \n",
       "623           15651.16  ultimate   None             15.65116     70.0  \n",
       "1933          14893.45  ultimate   None             14.89345     70.0  \n",
       "1552          15982.41      surf   None             15.98241     20.0  \n",
       "564           19046.98      surf   None             19.04698     20.0  \n",
       "1150           4821.57      surf   None              4.82157     20.0  \n",
       "1966          19306.89      surf   None             19.30689     20.0  \n",
       "1299          21632.19      surf   None             21.63219     20.0  \n",
       "793           16078.19  ultimate   None             16.07819     70.0  \n",
       "305           20870.81      surf  NY-NJ             20.87081     20.0  \n",
       "716           12881.10  ultimate   None             12.88110     70.0  \n",
       "1716          18506.74  ultimate   None             18.50674     70.0  "
      ]
     },
     "metadata": {},
     "output_type": "display_data"
    }
   ],
   "source": [
    "# Calculate the monthly revenue for each user\n",
    "#display(updated_user_info['plan'].head(25))\n",
    "updated_user_info['revenue'] = 0\n",
    "#ultimate_revenue = updated_user_info[updated_user_info['plan'] == 'ultimate']\n",
    "#surf_revenue = updated_user_info[updated_user_info['plan'] == 'surf']\n",
    "#print(ultimate_revenue)\n",
    "if (updated_user_info['plan'].isin(['ultimate'])).any():\n",
    "    updated_user_info['revenue'] = ((updated_user_info['total_messages'] - 1000) * 0.01) + ((updated_user_info['total_minutes'] - 3000) * 0.01) + ((updated_user_info['internet_traffic_gb'] - 30.72) * 7)\n",
    "elif (updated_user_info['plan'].isin(['surf'])).any():\n",
    "    updated_user_info['revenue'] = ((updated_user_info['total_messages'] - 50) * 0.03) + ((updated_user_info['total_minutes'] - 500) * 0.03) + ((updated_user_info['internet_traffic_gb'] - 15.36) * 10)   \n",
    "else:\n",
    "    print('No plan listed! Check again')\n",
    "#print(updated_user_info['plan'].isin(['ultimate'])).any()\n",
    "\n",
    "updated_user_info['revenue'] = updated_user_info['revenue'].where((updated_user_info['revenue'] > 0), 0) \n",
    "\n",
    "\n",
    "updated_user_info['revenue'] = updated_user_info['revenue'].where((updated_user_info['plan'] != 'ultimate'), updated_user_info['revenue'] + 70)        \n",
    "updated_user_info['revenue'] = updated_user_info['revenue'].where((updated_user_info['plan'] != 'surf'), updated_user_info['revenue'] + 20)        \n",
    "                                                                                       \n",
    "        \n",
    "display(updated_user_info.sample(25))"
   ]
  },
  {
   "cell_type": "markdown",
   "metadata": {},
   "source": [
    "## Study user behaviour"
   ]
  },
  {
   "cell_type": "markdown",
   "metadata": {},
   "source": [
    "I created a variable that has the new DataFrame grouped by month and plan. That variable is used frequently throughout the analysis. "
   ]
  },
  {
   "cell_type": "markdown",
   "metadata": {},
   "source": [
    "First I calculated average duration by using the sum of total minutes and the sum of the number of calls. I then used those averages to create a bar chart. There was very little difference in between the average monthly call duration between the two plans; all the averages were between six and seven minutes."
   ]
  },
  {
   "cell_type": "markdown",
   "metadata": {},
   "source": [
    "### Calls"
   ]
  },
  {
   "cell_type": "code",
   "execution_count": null,
   "metadata": {},
   "outputs": [
    {
     "data": {
      "image/png": "[encoded data removed]",
      "text/plain": [
       "<Figure size 432x288 with 1 Axes>"
      ]
     },
     "metadata": {
      "needs_background": "light"
     },
     "output_type": "display_data"
    },
    {
     "name": "stdout",
     "output_type": "stream",
     "text": [
      "month_x  plan    \n",
      "1        surf        6.428000\n",
      "         ultimate    6.541518\n",
      "2        surf        6.906175\n",
      "         ultimate    6.517230\n",
      "3        surf        6.696919\n",
      "         ultimate    6.210906\n",
      "4        surf        6.799918\n",
      "         ultimate    6.659990\n",
      "5        surf        6.769200\n",
      "         ultimate    6.662443\n",
      "6        surf        6.846812\n",
      "         ultimate    6.705188\n",
      "7        surf        6.721710\n",
      "         ultimate    6.879085\n",
      "8        surf        6.726164\n",
      "         ultimate    6.613484\n",
      "9        surf        6.728684\n",
      "         ultimate    6.770040\n",
      "10       surf        6.722302\n",
      "         ultimate    6.665850\n",
      "11       surf        6.759115\n",
      "         ultimate    6.742506\n",
      "12       surf        6.836607\n",
      "         ultimate    6.671929\n",
      "dtype: float64\n"
     ]
    }
   ],
   "source": [
    "# Compare average duration of calls per each plan per each distinct month. Plot a bar plat to visualize it.\n",
    "grp3 = updated_user_info.groupby(['month_x', 'plan'])\n",
    "avg_duration = grp3['total_minutes'].sum() / grp3['number_calls'].sum()\n",
    "avg_duration.plot(kind='bar',\n",
    "                  x=['month_x', 'plan'],\n",
    "                  y='total_minutes',\n",
    "                  title='Average Call Time Breakdown by Plan and Month',\n",
    "                  xlabel='Plan and Month',\n",
    "                  ylabel='Average Call Time'\n",
    "                  )\n",
    "\n",
    "plt.show()\n",
    "print(avg_duration)"
   ]
  },
  {
   "cell_type": "markdown",
   "metadata": {},
   "source": [
    "I filtered the data by plan, then grouped by month. After that, I calculated the total number of minutes each plan required for each month and plotted them onto a histogram. The surf plan had a wider distribution than the ultimate plan."
   ]
  },
  {
   "cell_type": "code",
   "execution_count": null,
   "metadata": {},
   "outputs": [
    {
     "data": {
      "text/plain": [
       "<AxesSubplot:ylabel='Frequency'>"
      ]
     },
     "execution_count": 31,
     "metadata": {},
     "output_type": "execute_result"
    },
    {
     "data": {
      "image/png": "[encoded data removed]",
      "text/plain": [
       "<Figure size 432x288 with 1 Axes>"
      ]
     },
     "metadata": {
      "needs_background": "light"
     },
     "output_type": "display_data"
    }
   ],
   "source": [
    "# Compare the number of minutes users of each plan require each month. Plot a histogram.\n",
    "\n",
    "monthly_ultimate_minutes = (updated_user_info[updated_user_info['plan'] == 'ultimate']).groupby('month_x')['total_minutes'].sum()\n",
    "\n",
    "\n",
    "monthly_ultimate_minutes.plot(kind='hist',\n",
    "                     bins=12, \n",
    "                     alpha=0.7)\n",
    "\n",
    "monthly_surf_minutes = (updated_user_info[updated_user_info['plan'] == 'surf']).groupby('month_x')['total_minutes'].sum()\n",
    "\n",
    "\n",
    "monthly_surf_minutes.plot(kind='hist',\n",
    "                     bins=12, \n",
    "                     alpha=0.7)\n"
   ]
  },
  {
   "cell_type": "markdown",
   "metadata": {},
   "source": [
    "I filtered the data by plan, then grouped by month. First I calculated average duration by using the sum of total minutes and the sum of the number of calls. I then calculated the variance as well using both total minutes and the number of calls, though I am less confident about that calculation."
   ]
  },
  {
   "cell_type": "code",
   "execution_count": null,
   "metadata": {},
   "outputs": [
    {
     "name": "stdout",
     "output_type": "stream",
     "text": [
      "month_x\n",
      "1     6.541518\n",
      "2     6.517230\n",
      "3     6.210906\n",
      "4     6.659990\n",
      "5     6.662443\n",
      "6     6.705188\n",
      "7     6.879085\n",
      "8     6.613484\n",
      "9     6.770040\n",
      "10    6.665850\n",
      "11    6.742506\n",
      "12    6.671929\n",
      "dtype: float64\n",
      "month_x\n",
      "1     6.428000\n",
      "2     6.906175\n",
      "3     6.696919\n",
      "4     6.799918\n",
      "5     6.769200\n",
      "6     6.846812\n",
      "7     6.721710\n",
      "8     6.726164\n",
      "9     6.728684\n",
      "10    6.722302\n",
      "11    6.759115\n",
      "12    6.836607\n",
      "dtype: float64\n",
      "month_x\n",
      "1     47.541342\n",
      "2     43.327696\n",
      "3     38.757017\n",
      "4     42.628811\n",
      "5     45.510923\n",
      "6     45.998450\n",
      "7     46.095763\n",
      "8     44.277967\n",
      "9     49.099933\n",
      "10    45.213990\n",
      "11    48.209388\n",
      "12    48.061858\n",
      "dtype: float64\n",
      "month_x\n",
      "1     51.373056\n",
      "2     58.790886\n",
      "3     45.685519\n",
      "4     52.005703\n",
      "5     46.270437\n",
      "6     49.720726\n",
      "7     48.040047\n",
      "8     46.456586\n",
      "9     45.575888\n",
      "10    46.858119\n",
      "11    48.016923\n",
      "12    49.607423\n",
      "dtype: float64\n"
     ]
    }
   ],
   "source": [
    "# Calculate the mean and the variance of the monthly call duration\n",
    "monthly_ultimate = (updated_user_info[updated_user_info['plan'] == 'ultimate']).groupby('month_x')\n",
    "monthly_surf = (updated_user_info[updated_user_info['plan'] == 'surf']).groupby('month_x')\n",
    "ultimate_mean = monthly_ultimate['total_minutes'].sum() / monthly_ultimate['number_calls'].sum()\n",
    "surf_mean = monthly_surf['total_minutes'].sum() / monthly_surf['number_calls'].sum()\n",
    "ultimate_var = monthly_ultimate['total_minutes'].var() / monthly_ultimate['number_calls'].var()\n",
    "surf_var = monthly_surf['total_minutes'].var() / monthly_surf['number_calls'].var()\n",
    "\n",
    "print(ultimate_mean)\n",
    "print(surf_mean)\n",
    "print(ultimate_var)\n",
    "print(surf_var)"
   ]
  },
  {
   "cell_type": "markdown",
   "metadata": {},
   "source": [
    "I used the means calculated above to plot a boxplot. However, I was not really sure how to plot the boxplot, so it was some trial and error. I looked up what to do. Surf calls are slightly longer with slightly less variance than Ultimate calls.\n",
    "\n"
   ]
  },
  {
   "cell_type": "code",
   "execution_count": null,
   "metadata": {},
   "outputs": [
    {
     "data": {
      "image/png": "[encoded data removed]",
      "text/plain": [
       "<Figure size 576x288 with 2 Axes>"
      ]
     },
     "metadata": {
      "needs_background": "light"
     },
     "output_type": "display_data"
    }
   ],
   "source": [
    "# Plot a boxplot to visualize the distribution of the monthly call duration\n",
    "fig, axes = plt.subplots(nrows=1, ncols=2, figsize=(8,4))\n",
    "\n",
    "# Plot the boxplots for ultimate_internet_var\n",
    "axes[0].boxplot(ultimate_mean)\n",
    "axes[0].set_title('Boxplot for Ultimate Calling Plan')\n",
    "\n",
    "# Plot the boxplots for surf_internet_var\n",
    "axes[1].boxplot(surf_mean)\n",
    "axes[1].set_title('Boxplot for Surf Calling Plan')\n",
    "\n",
    "plt.show()\n",
    "\n"
   ]
  },
  {
   "cell_type": "markdown",
   "metadata": {},
   "source": [
    "### Messages"
   ]
  },
  {
   "cell_type": "markdown",
   "metadata": {},
   "source": [
    "I used the variables I had created before where I had filtered the data and grouped it. I then calculated the mean for total messages for each plan, as well as variance. As before, I used the means calculated above to plot a boxplot. The Ultimate plan has a higher average number of messages, but the Surf plan has greater variance."
   ]
  },
  {
   "cell_type": "code",
   "execution_count": null,
   "metadata": {},
   "outputs": [
    {
     "name": "stdout",
     "output_type": "stream",
     "text": [
      "month_x\n",
      "1     15.500000\n",
      "2     21.571429\n",
      "3     20.250000\n",
      "4     22.047619\n",
      "5     32.103448\n",
      "6     29.340426\n",
      "7     32.830508\n",
      "8     38.478873\n",
      "9     37.895349\n",
      "10    39.443396\n",
      "11    38.606299\n",
      "12    45.006623\n",
      "Name: total_messages, dtype: float64\n",
      "month_x\n",
      "1     10.500000\n",
      "2     12.000000\n",
      "3     15.260870\n",
      "4     17.400000\n",
      "5     24.012987\n",
      "6     25.298969\n",
      "7     27.033058\n",
      "8     28.777778\n",
      "9     30.762887\n",
      "10    33.839662\n",
      "11    32.385159\n",
      "12    38.600629\n",
      "Name: total_messages, dtype: float64\n",
      "month_x\n",
      "1      313.666667\n",
      "2      478.285714\n",
      "3      654.386364\n",
      "4      544.147619\n",
      "5     1297.310345\n",
      "6      857.620722\n",
      "7      960.488019\n",
      "8     1196.367404\n",
      "9     1050.918331\n",
      "10    1221.106289\n",
      "11    1232.669166\n",
      "12    1549.419956\n",
      "Name: total_messages, dtype: float64\n",
      "month_x\n",
      "1      220.500000\n",
      "2      386.000000\n",
      "3      346.565217\n",
      "4      501.591837\n",
      "5      847.197198\n",
      "6      914.920103\n",
      "7      923.915565\n",
      "8     1029.515528\n",
      "9     1003.829496\n",
      "10    1275.465708\n",
      "11    1065.344034\n",
      "12    1458.158612\n",
      "Name: total_messages, dtype: float64\n"
     ]
    },
    {
     "data": {
      "image/png": "[encoded data removed]",
      "text/plain": [
       "<Figure size 576x288 with 2 Axes>"
      ]
     },
     "metadata": {
      "needs_background": "light"
     },
     "output_type": "display_data"
    }
   ],
   "source": [
    "# Compare the number of messages users of each plan tend to send each month\n",
    "ultimate_messages = monthly_ultimate['total_messages'].mean()\n",
    "surf_messages = monthly_surf['total_messages'].mean()\n",
    "ultimate_messages_var = monthly_ultimate['total_messages'].var()\n",
    "surf_messages_var = monthly_surf['total_messages'].var()\n",
    "\n",
    "print(ultimate_messages)\n",
    "print(surf_messages)\n",
    "print(ultimate_messages_var)\n",
    "print(surf_messages_var)\n",
    "\n",
    "fig, axes = plt.subplots(nrows=1, ncols=2, figsize=(8,4))\n",
    "\n",
    "# Plot the boxplots for ultimate_internet_var\n",
    "axes[0].boxplot(ultimate_messages)\n",
    "axes[0].set_title('Ultimate Plan Messaging Usage Boxplot')\n",
    "\n",
    "# Plot the boxplots for surf_internet_var\n",
    "axes[1].boxplot(surf_messages)\n",
    "axes[1].set_title('Surf Plan Messaging Usage Boxplot')\n",
    "\n",
    "plt.show()"
   ]
  },
  {
   "cell_type": "markdown",
   "metadata": {},
   "source": [
    "I used the variables I had created before where I had filtered the data and grouped it.I then totaled the total messages per month per plan and plotted both plans on a histogram. Once again, the Surf plan had a wider distribution."
   ]
  },
  {
   "cell_type": "code",
   "execution_count": null,
   "metadata": {},
   "outputs": [
    {
     "data": {
      "text/plain": [
       "<AxesSubplot:ylabel='Frequency'>"
      ]
     },
     "execution_count": 35,
     "metadata": {},
     "output_type": "execute_result"
    },
    {
     "data": {
      "image/png": "[encoded data removed]",
      "text/plain": [
       "<Figure size 432x288 with 1 Axes>"
      ]
     },
     "metadata": {
      "needs_background": "light"
     },
     "output_type": "display_data"
    }
   ],
   "source": [
    "ultimate_messages_total = monthly_ultimate['total_messages'].sum()\n",
    "surf_messages_total = monthly_surf['total_messages'].sum()\n",
    "\n",
    "ultimate_messages_total.plot(kind='hist',\n",
    "                     bins=12, \n",
    "                     alpha=0.7)\n",
    "\n",
    "surf_messages_total.plot(kind='hist',\n",
    "                     bins=12, \n",
    "                     alpha=0.7)\n"
   ]
  },
  {
   "cell_type": "markdown",
   "metadata": {},
   "source": [
    "I used the grp3 variable and grabbed the average of total messages for each month per plan. I then used that to create a bar chart. The average number of messages for both plans increased throughout the year for both plans. Overall, Ultimate plan users tend to use messaging more than Surf plan users."
   ]
  },
  {
   "cell_type": "code",
   "execution_count": null,
   "metadata": {},
   "outputs": [
    {
     "data": {
      "text/plain": [
       "<AxesSubplot:title={'center':'Average Number of Messages by Plan and Month'}, xlabel='Plan and Month', ylabel='Average Messages'>"
      ]
     },
     "execution_count": 36,
     "metadata": {},
     "output_type": "execute_result"
    },
    {
     "data": {
      "image/png": "[encoded data removed]",
      "text/plain": [
       "<Figure size 432x288 with 1 Axes>"
      ]
     },
     "metadata": {
      "needs_background": "light"
     },
     "output_type": "display_data"
    }
   ],
   "source": [
    "avg_messages = grp3['total_messages'].mean()\n",
    "avg_messages.plot(kind='bar',\n",
    "                  x=['month_x', 'plan'],\n",
    "                  y='total_messages',\n",
    "                  title='Average Number of Messages by Plan and Month',\n",
    "                  xlabel='Plan and Month',\n",
    "                  ylabel='Average Messages')"
   ]
  },
  {
   "cell_type": "markdown",
   "metadata": {},
   "source": [
    "### Internet"
   ]
  },
  {
   "cell_type": "markdown",
   "metadata": {},
   "source": [
    "I used the internet traffic in mb for these calculations"
   ]
  },
  {
   "cell_type": "markdown",
   "metadata": {},
   "source": [
    "I used the variables I had created before where I had filtered the data and grouped it. I then calculated the mean for internet traffic for each plan, as well as variance. As before, I used the means calculated above to plot a boxplot. The Ultimate plan has a higher average internet usage, but the Surf plan has greater variance."
   ]
  },
  {
   "cell_type": "code",
   "execution_count": null,
   "metadata": {
    "scrolled": true
   },
   "outputs": [
    {
     "name": "stdout",
     "output_type": "stream",
     "text": [
      "month_x\n",
      "1      6918.092500\n",
      "2     17128.808571\n",
      "3     18321.518333\n",
      "4     16121.654762\n",
      "5     16624.482414\n",
      "6     15337.921064\n",
      "7     16344.744407\n",
      "8     17814.720141\n",
      "9     16969.869535\n",
      "10    17612.553396\n",
      "11    17033.685354\n",
      "12    18323.191854\n",
      "Name: internet_traffic, dtype: float64\n",
      "month_x\n",
      "1      4874.860000\n",
      "2     12178.843333\n",
      "3     13345.440000\n",
      "4     11984.203000\n",
      "5     13936.354935\n",
      "6     15301.529175\n",
      "7     16783.600579\n",
      "8     16795.331358\n",
      "9     16591.431289\n",
      "10    17311.335063\n",
      "11    16339.254417\n",
      "12    18132.469371\n",
      "Name: internet_traffic, dtype: float64\n",
      "month_x\n",
      "1     1.639471e+07\n",
      "2     3.764910e+07\n",
      "3     1.403392e+08\n",
      "4     8.842861e+07\n",
      "5     5.679012e+07\n",
      "6     7.201453e+07\n",
      "7     6.841921e+07\n",
      "8     6.044708e+07\n",
      "9     4.933904e+07\n",
      "10    5.699528e+07\n",
      "11    5.758948e+07\n",
      "12    6.188130e+07\n",
      "Name: internet_traffic, dtype: float64\n",
      "month_x\n",
      "1     1.823995e+07\n",
      "2     4.367296e+07\n",
      "3     6.824556e+07\n",
      "4     5.904494e+07\n",
      "5     6.147653e+07\n",
      "6     4.913339e+07\n",
      "7     6.468655e+07\n",
      "8     7.463649e+07\n",
      "9     5.131665e+07\n",
      "10    6.252794e+07\n",
      "11    5.717547e+07\n",
      "12    7.214741e+07\n",
      "Name: internet_traffic, dtype: float64\n"
     ]
    },
    {
     "data": {
      "image/png": "[encoded data removed]",
      "text/plain": [
       "<Figure size 864x288 with 2 Axes>"
      ]
     },
     "metadata": {
      "needs_background": "light"
     },
     "output_type": "display_data"
    }
   ],
   "source": [
    "#display(updated_user_info.head())\n",
    "ultimate_internet = monthly_ultimate['internet_traffic'].mean()\n",
    "surf_internet = monthly_surf['internet_traffic'].mean()\n",
    "ultimate_internet_var = monthly_ultimate['internet_traffic'].var()\n",
    "surf_internet_var = monthly_surf['internet_traffic'].var()\n",
    "\n",
    "print(ultimate_internet)\n",
    "print(surf_internet)\n",
    "print(ultimate_internet_var)\n",
    "print(surf_internet_var)\n",
    "\n",
    "fig, axes = plt.subplots(nrows=1, ncols=2, figsize=(12,4))\n",
    "\n",
    "axes[0].boxplot(ultimate_internet)\n",
    "axes[0].set_title('Ultimate Plan Internet Usage Boxplot')\n",
    "\n",
    "axes[1].boxplot(surf_internet)\n",
    "axes[1].set_title('Surf Plan Internet Usage Boxplot')\n",
    "\n",
    "\n",
    "plt.show()"
   ]
  },
  {
   "cell_type": "raw",
   "metadata": {},
   "source": [
    "I used the variables I had created before where I had filtered the data and grouped it.I then totaled the internet traffic per month per plan and plotted both plans on a histogram. The Surf plan had a wider distribution here as well."
   ]
  },
  {
   "cell_type": "code",
   "execution_count": null,
   "metadata": {},
   "outputs": [
    {
     "data": {
      "text/plain": [
       "<AxesSubplot:ylabel='Frequency'>"
      ]
     },
     "execution_count": 38,
     "metadata": {},
     "output_type": "execute_result"
    },
    {
     "data": {
      "image/png": "[encoded data removed]",
      "text/plain": [
       "<Figure size 432x288 with 1 Axes>"
      ]
     },
     "metadata": {
      "needs_background": "light"
     },
     "output_type": "display_data"
    }
   ],
   "source": [
    "ultimate_internet_total = monthly_ultimate['internet_traffic'].sum()\n",
    "surf_internet_total = monthly_surf['internet_traffic'].sum()\n",
    "\n",
    "\n",
    "ultimate_internet_total.plot(kind='hist',\n",
    "                     bins=12, \n",
    "                     alpha=0.7)\n",
    "\n",
    "surf_internet_total.plot(kind='hist',\n",
    "                     bins=12, \n",
    "                     alpha=0.7)\n",
    "\n"
   ]
  },
  {
   "cell_type": "raw",
   "metadata": {},
   "source": [
    "I used the grp3 variable and grabbed the average of internet traffic for each month per plan. I then used that to create a bar chart. The average internet usage for both plans increased quite a bit after the first month. In the first six months, Ultimate users used more data than Surf users, but in the second six months, usage was similar between the two plans."
   ]
  },
  {
   "cell_type": "code",
   "execution_count": null,
   "metadata": {},
   "outputs": [
    {
     "data": {
      "text/plain": [
       "<AxesSubplot:title={'center':'Average Internet Usage by Plan and Month'}, xlabel='Plan and Month', ylabel='Average Internet Usage'>"
      ]
     },
     "execution_count": 39,
     "metadata": {},
     "output_type": "execute_result"
    },
    {
     "data": {
      "image/png": "[encoded data removed]",
      "text/plain": [
       "<Figure size 432x288 with 1 Axes>"
      ]
     },
     "metadata": {
      "needs_background": "light"
     },
     "output_type": "display_data"
    }
   ],
   "source": [
    "avg_internet = grp3['internet_traffic'].mean()\n",
    "avg_internet.plot(kind='bar',\n",
    "                  x=['month_x', 'plan'],\n",
    "                  y='internet_traffic',\n",
    "                  title='Average Internet Usage by Plan and Month',\n",
    "                  xlabel='Plan and Month',\n",
    "                  ylabel='Average Internet Usage')"
   ]
  },
  {
   "cell_type": "markdown",
   "metadata": {},
   "source": [
    "## Revenue"
   ]
  },
  {
   "cell_type": "markdown",
   "metadata": {},
   "source": [
    "I used the variables I had created before where I had filtered the data and grouped it. I then calculated the mean for revenue for each plan, as well as variance. As before, I used the means calculated above to plot a boxplot. I am not entirely sure how to interpret the boxplots though."
   ]
  },
  {
   "cell_type": "code",
   "execution_count": null,
   "metadata": {},
   "outputs": [
    {
     "name": "stdout",
     "output_type": "stream",
     "text": [
      "month_x\n",
      "1     70.000000\n",
      "2     70.000000\n",
      "3     70.000000\n",
      "4     70.502630\n",
      "5     70.000000\n",
      "6     70.242766\n",
      "7     70.685253\n",
      "8     70.878126\n",
      "9     70.191884\n",
      "10    70.913195\n",
      "11    70.503139\n",
      "12    71.172784\n",
      "Name: revenue, dtype: float64\n",
      "month_x\n",
      "1     20.000000\n",
      "2     20.000000\n",
      "3     20.000000\n",
      "4     20.000000\n",
      "5     20.095106\n",
      "6     20.099313\n",
      "7     20.350541\n",
      "8     21.410189\n",
      "9     20.045247\n",
      "10    20.779917\n",
      "11    20.346284\n",
      "12    22.357099\n",
      "Name: revenue, dtype: float64\n",
      "month_x\n",
      "1      0.000000\n",
      "2      0.000000\n",
      "3      0.000000\n",
      "4      5.305375\n",
      "5      0.000000\n",
      "6      2.769950\n",
      "7     13.767944\n",
      "8     21.262207\n",
      "9      2.212844\n",
      "10    52.363611\n",
      "11    19.239723\n",
      "12    65.130564\n",
      "Name: revenue, dtype: float64\n",
      "month_x\n",
      "1       0.000000\n",
      "2       0.000000\n",
      "3       0.000000\n",
      "4       0.000000\n",
      "5       0.696471\n",
      "6       0.956724\n",
      "7       5.791068\n",
      "8     143.743465\n",
      "9       0.258103\n",
      "10     40.635500\n",
      "11     12.211281\n",
      "12    399.500760\n",
      "Name: revenue, dtype: float64\n"
     ]
    },
    {
     "data": {
      "image/png": "[encoded data removed]",
      "text/plain": [
       "<Figure size 576x288 with 2 Axes>"
      ]
     },
     "metadata": {
      "needs_background": "light"
     },
     "output_type": "display_data"
    }
   ],
   "source": [
    "ultimate_revenue_avg = monthly_ultimate['revenue'].mean()\n",
    "surf_revenue_avg = monthly_surf['revenue'].mean()\n",
    "ultimate_revenue_var = monthly_ultimate['revenue'].var()\n",
    "surf_revenue_var = monthly_surf['revenue'].var()\n",
    "\n",
    "print(ultimate_revenue_avg)\n",
    "print(surf_revenue_avg)\n",
    "print(ultimate_revenue_var)\n",
    "print(surf_revenue_var)\n",
    "\n",
    "fig, axes = plt.subplots(nrows=1, ncols=2, figsize=(8,4))\n",
    "\n",
    "axes[0].boxplot(ultimate_revenue_avg)\n",
    "axes[0].set_title('Ultimate Boxplot')\n",
    "\n",
    "axes[1].boxplot(surf_revenue_avg)\n",
    "axes[1].set_title('Surf Boxplot')\n",
    "plt.show()"
   ]
  },
  {
   "cell_type": "markdown",
   "metadata": {},
   "source": [
    "I used the variables I had created before where I had filtered the data and grouped it.I then totaled the revenue per month per plan and plotted both plans on a histogram. The Ultimate plan had a wider distribution than the Surf plan in this case."
   ]
  },
  {
   "cell_type": "code",
   "execution_count": null,
   "metadata": {},
   "outputs": [
    {
     "name": "stdout",
     "output_type": "stream",
     "text": [
      "month_x\n",
      "1       280.00000\n",
      "2       490.00000\n",
      "3       840.00000\n",
      "4      1480.55523\n",
      "5      2030.00000\n",
      "6      3301.40998\n",
      "7      4170.42992\n",
      "8      5032.34695\n",
      "9      6036.50204\n",
      "10     7516.79866\n",
      "11     8953.89865\n",
      "12    10747.09042\n",
      "Name: revenue, dtype: float64\n",
      "month_x\n",
      "1       40.00000\n",
      "2      180.00000\n",
      "3      460.00000\n",
      "4     1000.00000\n",
      "5     1547.32313\n",
      "6     1949.63339\n",
      "7     2462.41541\n",
      "8     3468.45069\n",
      "9     3888.77783\n",
      "10    4924.84035\n",
      "11    5757.99851\n",
      "12    7109.55736\n",
      "Name: revenue, dtype: float64\n"
     ]
    },
    {
     "data": {
      "text/plain": [
       "<AxesSubplot:ylabel='Frequency'>"
      ]
     },
     "execution_count": 41,
     "metadata": {},
     "output_type": "execute_result"
    },
    {
     "data": {
      "image/png": "[encoded data removed]",
      "text/plain": [
       "<Figure size 432x288 with 1 Axes>"
      ]
     },
     "metadata": {
      "needs_background": "light"
     },
     "output_type": "display_data"
    }
   ],
   "source": [
    "ultimate_revenue_total = monthly_ultimate['revenue'].sum()\n",
    "surf_revenue_total = monthly_surf['revenue'].sum()\n",
    "print(ultimate_revenue_total)\n",
    "print(surf_revenue_total)\n",
    "ultimate_revenue_total.plot(kind='hist',\n",
    "                     bins=12, \n",
    "                     alpha=0.7)\n",
    "\n",
    "surf_revenue_total.plot(kind='hist',\n",
    "                     bins=12, \n",
    "                     alpha=0.7)\n"
   ]
  },
  {
   "cell_type": "markdown",
   "metadata": {},
   "source": [
    "I used the grp3 variable and grabbed the average of revenue for each month per plan. I then used that to create a bar chart. The average revenue for both plans stayed very steady for each month. The Ultimate plan's average revenue was higher than the Surf plan's revenue."
   ]
  },
  {
   "cell_type": "code",
   "execution_count": null,
   "metadata": {},
   "outputs": [
    {
     "data": {
      "text/plain": [
       "<AxesSubplot:title={'center':'Average Revenue by Plan and Month'}, xlabel='Plan and Month', ylabel='Revenue'>"
      ]
     },
     "execution_count": 42,
     "metadata": {},
     "output_type": "execute_result"
    },
    {
     "data": {
      "image/png": "[encoded data removed]",
      "text/plain": [
       "<Figure size 432x288 with 1 Axes>"
      ]
     },
     "metadata": {
      "needs_background": "light"
     },
     "output_type": "display_data"
    }
   ],
   "source": [
    "avg_revenue = grp3['revenue'].mean()\n",
    "avg_revenue.plot(kind='bar',\n",
    "                  x=['month_x', 'plan'],\n",
    "                  y='revenue',\n",
    "                  title='Average Revenue by Plan and Month',\n",
    "                  xlabel='Plan and Month',\n",
    "                  ylabel='Revenue')"
   ]
  },
  {
   "cell_type": "markdown",
   "metadata": {},
   "source": [
    "## Test statistical hypotheses"
   ]
  },
  {
   "cell_type": "markdown",
   "metadata": {},
   "source": [
    "Null hypothesis: The average revenue of the Ultimate plan and the Surf plan are not different.\n",
    "Alternative hypthosis: The average revenue of the Ultimate plan and the Surf plan are different.\n",
    "\n",
    "I chose the test to test the equality between two population means (st.ttest_ind)."
   ]
  },
  {
   "cell_type": "code",
   "execution_count": null,
   "metadata": {},
   "outputs": [
    {
     "name": "stdout",
     "output_type": "stream",
     "text": [
      "p-value: 0.0\n",
      "We reject the null hypothesis: the difference in average revenue was significantly different.\n"
     ]
    }
   ],
   "source": [
    "# Test the hypotheses\n",
    "alpha = .05\n",
    "\n",
    "results = st.ttest_ind(updated_user_info[updated_user_info['plan'] == 'ultimate']['revenue'], updated_user_info[updated_user_info['plan'] == 'surf']['revenue'], equal_var=False)# your code: test the hypothesis that the means of the two independent populations are equal\n",
    "\n",
    "print('p-value:', results.pvalue)\n",
    "\n",
    "if results.pvalue < alpha:\n",
    "    print(\n",
    "        \"We reject the null hypothesis: the difference in average revenue was significantly different.\"\n",
    "    )\n",
    "else:\n",
    "    print(\n",
    "        \"We can't reject the null hypothesis: average revenue wasn't significantly different\"\n",
    "    )\n"
   ]
  },
  {
   "cell_type": "markdown",
   "metadata": {},
   "source": [
    "Null hypothesis: The average revenue in the NY-NJ area is not different than that of users in the other regions of the country.\n",
    "Alternative hypthosis: The average revenue in the NY-NJ area is different than that of users in the other regions of the country.\n",
    "\n",
    "I chose the test to test the equality between two population means (st.ttest_ind)."
   ]
  },
  {
   "cell_type": "code",
   "execution_count": null,
   "metadata": {},
   "outputs": [
    {
     "name": "stdout",
     "output_type": "stream",
     "text": [
      "p-value: 0.9671977211300125\n",
      "We can't reject the null hypothesis: average revenue wasn't significantly different\n"
     ]
    }
   ],
   "source": [
    "# Test the hypotheses\n",
    "alpha = .05\n",
    "\n",
    "results = st.ttest_ind(updated_user_info[updated_user_info['region'] == 'NY-NJ']['revenue'], updated_user_info[updated_user_info['region'] == 'None']['revenue'], equal_var=False)\n",
    "print('p-value:', results.pvalue)\n",
    "\n",
    "if results.pvalue < alpha:\n",
    "    print(\n",
    "        \"We reject the null hypothesis: the difference in average revenue was significantly different.\"\n",
    "    )\n",
    "else:\n",
    "    print(\n",
    "        \"We can't reject the null hypothesis: average revenue wasn't significantly different\"\n",
    "    )\n"
   ]
  },
  {
   "cell_type": "markdown",
   "metadata": {},
   "source": [
    "# General conclusion\n",
    "Overall, the Ultimate plan does pull in more revenue on average. Although the Ultimate plan allows for more texts, minutes, and internet usage, neither plan's users tend to go over their plan's limits. Average call time was similar for both plans, as was the average number of messages and the average internet usage. As a result, the Ultimate plan's higher monthly cost is more lucrative for Megaline. The NY/NJ region also did not show much difference in revenue compared to the rest of the country.\n"
   ]
  }
 ],
 "metadata": {
  "ExecuteTimeLog": [
   {
    "duration": 828,
    "start_time": "2021-11-16T09:21:11.304Z"
   },
   {
    "duration": 893,
    "start_time": "2021-11-16T09:21:17.728Z"
   },
   {
    "duration": 1150,
    "start_time": "2021-11-16T09:21:29.568Z"
   },
   {
    "duration": 3,
    "start_time": "2021-11-16T09:24:14.495Z"
   },
   {
    "duration": 120,
    "start_time": "2021-11-16T09:24:46.630Z"
   },
   {
    "duration": 3,
    "start_time": "2021-11-16T09:28:27.882Z"
   },
   {
    "duration": 4,
    "start_time": "2021-11-16T09:29:54.281Z"
   },
   {
    "duration": 3,
    "start_time": "2021-11-16T09:30:45.936Z"
   },
   {
    "duration": 4,
    "start_time": "2021-11-16T09:31:06.300Z"
   },
   {
    "duration": 113,
    "start_time": "2021-11-16T09:31:37.208Z"
   },
   {
    "duration": 143,
    "start_time": "2021-11-16T09:31:48.656Z"
   },
   {
    "duration": 98,
    "start_time": "2021-11-16T09:31:55.678Z"
   },
   {
    "duration": 3,
    "start_time": "2021-11-16T09:32:08.535Z"
   },
   {
    "duration": 111,
    "start_time": "2021-11-16T09:32:10.120Z"
   },
   {
    "duration": 3,
    "start_time": "2021-11-16T09:32:15.732Z"
   },
   {
    "duration": 4,
    "start_time": "2021-11-16T09:32:29.423Z"
   },
   {
    "duration": 3,
    "start_time": "2021-11-16T10:03:03.074Z"
   },
   {
    "duration": 3,
    "start_time": "2021-11-16T10:10:01.288Z"
   },
   {
    "duration": 3,
    "start_time": "2021-11-16T10:10:46.923Z"
   },
   {
    "duration": 121,
    "start_time": "2021-11-16T10:37:46.494Z"
   },
   {
    "duration": 125,
    "start_time": "2021-11-16T10:38:20.632Z"
   },
   {
    "duration": 112,
    "start_time": "2021-11-16T10:46:53.001Z"
   },
   {
    "duration": 110,
    "start_time": "2021-11-16T10:48:25.775Z"
   },
   {
    "duration": 3,
    "start_time": "2021-11-16T10:50:18.720Z"
   },
   {
    "duration": 4,
    "start_time": "2021-11-16T10:50:37.649Z"
   },
   {
    "duration": 2,
    "start_time": "2021-11-16T10:50:51.884Z"
   },
   {
    "duration": 3,
    "start_time": "2021-11-16T10:51:56.237Z"
   },
   {
    "duration": 101,
    "start_time": "2021-11-16T10:53:13.791Z"
   },
   {
    "duration": 3,
    "start_time": "2021-11-16T10:55:59.186Z"
   },
   {
    "duration": 3,
    "start_time": "2021-11-16T10:56:10.751Z"
   },
   {
    "duration": 3,
    "start_time": "2021-11-16T10:56:49.038Z"
   },
   {
    "duration": 3,
    "start_time": "2021-11-16T10:56:49.174Z"
   },
   {
    "duration": 4,
    "start_time": "2021-11-16T10:56:49.414Z"
   },
   {
    "duration": 3,
    "start_time": "2021-11-16T10:56:49.680Z"
   },
   {
    "duration": 3,
    "start_time": "2021-11-16T10:56:50.370Z"
   },
   {
    "duration": 114,
    "start_time": "2021-11-16T10:59:34.518Z"
   },
   {
    "duration": 3,
    "start_time": "2021-11-16T11:01:41.201Z"
   },
   {
    "duration": 116,
    "start_time": "2021-11-16T11:01:48.754Z"
   },
   {
    "duration": 3,
    "start_time": "2021-11-16T11:02:16.685Z"
   },
   {
    "duration": 3,
    "start_time": "2021-11-16T11:02:19.479Z"
   },
   {
    "duration": 3,
    "start_time": "2021-11-16T11:02:47.067Z"
   },
   {
    "duration": 3,
    "start_time": "2021-11-16T11:02:49.353Z"
   },
   {
    "duration": 3,
    "start_time": "2021-11-16T11:03:07.835Z"
   },
   {
    "duration": 3,
    "start_time": "2021-11-16T11:03:07.953Z"
   },
   {
    "duration": 112,
    "start_time": "2021-11-16T11:07:52.072Z"
   },
   {
    "duration": 187,
    "start_time": "2021-11-16T11:09:23.468Z"
   },
   {
    "duration": 4,
    "start_time": "2021-11-16T11:10:01.455Z"
   },
   {
    "duration": 3,
    "start_time": "2021-11-16T11:10:05.069Z"
   },
   {
    "duration": 4,
    "start_time": "2021-11-16T11:10:13.376Z"
   },
   {
    "duration": 3,
    "start_time": "2021-11-16T11:10:14.434Z"
   },
   {
    "duration": 3,
    "start_time": "2021-11-16T11:10:22.853Z"
   },
   {
    "duration": 4,
    "start_time": "2021-11-16T11:27:29.279Z"
   },
   {
    "duration": 4,
    "start_time": "2021-11-16T11:29:08.919Z"
   },
   {
    "duration": 118,
    "start_time": "2021-11-16T11:29:46.703Z"
   },
   {
    "duration": 437,
    "start_time": "2021-11-16T11:36:02.181Z"
   },
   {
    "duration": 157,
    "start_time": "2021-11-16T11:36:14.388Z"
   },
   {
    "duration": 207,
    "start_time": "2021-11-16T11:47:15.898Z"
   },
   {
    "duration": 3,
    "start_time": "2021-11-16T11:53:52.092Z"
   },
   {
    "duration": 3,
    "start_time": "2021-11-16T11:53:52.236Z"
   },
   {
    "duration": 3,
    "start_time": "2021-11-16T11:59:12.005Z"
   },
   {
    "duration": 112,
    "start_time": "2021-11-16T12:00:33.446Z"
   },
   {
    "duration": 3,
    "start_time": "2021-11-16T12:02:14.453Z"
   },
   {
    "duration": 3,
    "start_time": "2021-11-16T12:02:39.512Z"
   },
   {
    "duration": 106,
    "start_time": "2021-11-16T12:03:03.460Z"
   },
   {
    "duration": 3,
    "start_time": "2021-11-17T20:37:21.139Z"
   },
   {
    "duration": 3,
    "start_time": "2021-11-17T20:37:22.229Z"
   },
   {
    "duration": 3,
    "start_time": "2021-11-17T20:38:38.806Z"
   },
   {
    "duration": 3,
    "start_time": "2021-11-17T20:38:41.958Z"
   },
   {
    "duration": 3,
    "start_time": "2021-11-17T20:43:46.551Z"
   },
   {
    "duration": 4,
    "start_time": "2021-11-17T20:58:21.835Z"
   },
   {
    "duration": 3,
    "start_time": "2021-11-17T20:59:21.872Z"
   },
   {
    "duration": 4,
    "start_time": "2021-11-17T20:59:45.352Z"
   },
   {
    "duration": 4,
    "start_time": "2021-11-17T20:59:49.646Z"
   },
   {
    "duration": 159,
    "start_time": "2021-11-17T21:02:26.949Z"
   },
   {
    "duration": 3,
    "start_time": "2021-11-17T21:03:53.461Z"
   },
   {
    "duration": 3,
    "start_time": "2021-11-17T21:03:53.694Z"
   },
   {
    "duration": 3,
    "start_time": "2021-11-17T21:05:28.145Z"
   },
   {
    "duration": 116,
    "start_time": "2021-11-17T21:05:57.787Z"
   },
   {
    "duration": 3,
    "start_time": "2021-11-17T21:06:37.993Z"
   },
   {
    "duration": 3,
    "start_time": "2021-11-17T21:06:38.261Z"
   },
   {
    "duration": 3,
    "start_time": "2021-11-17T21:11:54.358Z"
   },
   {
    "duration": 3,
    "start_time": "2021-11-17T21:12:43.846Z"
   },
   {
    "duration": 4,
    "start_time": "2021-11-17T21:13:08.773Z"
   },
   {
    "duration": 3,
    "start_time": "2021-11-17T21:14:44.441Z"
   },
   {
    "duration": 3,
    "start_time": "2021-11-17T21:15:42.059Z"
   },
   {
    "duration": 4,
    "start_time": "2021-11-17T21:15:51.995Z"
   },
   {
    "duration": 3,
    "start_time": "2021-11-17T21:15:53.923Z"
   },
   {
    "duration": 3,
    "start_time": "2021-11-17T21:15:55.282Z"
   },
   {
    "duration": 3,
    "start_time": "2021-11-17T21:16:28.492Z"
   },
   {
    "duration": 3,
    "start_time": "2021-11-17T21:16:32.603Z"
   },
   {
    "duration": 3,
    "start_time": "2021-11-17T21:17:06.941Z"
   },
   {
    "duration": 98,
    "start_time": "2021-11-17T21:18:05.733Z"
   },
   {
    "duration": 4,
    "start_time": "2021-11-17T21:21:35.255Z"
   },
   {
    "duration": 3,
    "start_time": "2021-11-17T21:21:37.804Z"
   },
   {
    "duration": 4,
    "start_time": "2021-11-17T21:23:06.071Z"
   },
   {
    "duration": 3,
    "start_time": "2021-11-17T21:23:24.799Z"
   },
   {
    "duration": 3,
    "start_time": "2021-11-17T21:23:32.591Z"
   },
   {
    "duration": 98,
    "start_time": "2021-11-17T21:28:31.559Z"
   },
   {
    "duration": 3,
    "start_time": "2021-11-17T21:28:45.448Z"
   },
   {
    "duration": 3,
    "start_time": "2021-11-17T21:29:17.303Z"
   },
   {
    "duration": 3,
    "start_time": "2021-11-17T21:29:29.617Z"
   },
   {
    "duration": 3,
    "start_time": "2021-11-17T21:29:32.681Z"
   },
   {
    "duration": 3,
    "start_time": "2021-11-17T21:36:11.474Z"
   },
   {
    "duration": 3,
    "start_time": "2021-11-17T21:36:14.791Z"
   },
   {
    "duration": 3,
    "start_time": "2021-11-17T21:36:53.943Z"
   },
   {
    "duration": 3,
    "start_time": "2021-11-17T21:36:56.165Z"
   },
   {
    "duration": 4,
    "start_time": "2021-11-17T21:37:16.590Z"
   },
   {
    "duration": 3,
    "start_time": "2021-11-17T21:37:22.702Z"
   },
   {
    "duration": 4,
    "start_time": "2021-11-17T21:38:03.479Z"
   },
   {
    "duration": 3,
    "start_time": "2021-11-17T21:38:08.601Z"
   },
   {
    "duration": 3,
    "start_time": "2021-11-17T21:38:12.928Z"
   },
   {
    "duration": 3,
    "start_time": "2021-11-17T21:38:48.896Z"
   },
   {
    "duration": 2,
    "start_time": "2021-11-17T21:38:49.171Z"
   },
   {
    "duration": 4,
    "start_time": "2021-11-17T21:39:57.889Z"
   },
   {
    "duration": 3,
    "start_time": "2021-11-17T21:39:58.057Z"
   },
   {
    "duration": 3,
    "start_time": "2021-11-17T21:41:20.108Z"
   },
   {
    "duration": 3,
    "start_time": "2021-11-17T21:41:20.629Z"
   },
   {
    "duration": 3,
    "start_time": "2021-11-17T21:42:49.136Z"
   },
   {
    "duration": 3,
    "start_time": "2021-11-17T21:43:15.137Z"
   },
   {
    "duration": 4,
    "start_time": "2021-11-17T21:43:16.766Z"
   },
   {
    "duration": 4,
    "start_time": "2021-11-17T21:43:31.711Z"
   },
   {
    "duration": 3,
    "start_time": "2021-11-17T21:43:36.312Z"
   },
   {
    "duration": 4,
    "start_time": "2021-11-17T21:45:08.825Z"
   },
   {
    "duration": 4,
    "start_time": "2021-11-17T21:45:10.119Z"
   },
   {
    "duration": 4,
    "start_time": "2021-11-17T21:45:13.748Z"
   },
   {
    "duration": 3,
    "start_time": "2021-11-17T21:45:22.219Z"
   },
   {
    "duration": 3,
    "start_time": "2021-11-17T21:45:33.412Z"
   },
   {
    "duration": 2,
    "start_time": "2021-11-17T21:46:01.885Z"
   },
   {
    "duration": 3,
    "start_time": "2021-11-17T21:46:03.628Z"
   },
   {
    "duration": 107,
    "start_time": "2021-11-17T21:47:32.512Z"
   },
   {
    "duration": 103,
    "start_time": "2021-11-17T21:50:36.243Z"
   },
   {
    "duration": 3,
    "start_time": "2021-11-18T06:28:31.440Z"
   },
   {
    "duration": 3,
    "start_time": "2021-11-18T06:29:00.168Z"
   },
   {
    "duration": 3,
    "start_time": "2021-11-18T06:31:27.008Z"
   },
   {
    "duration": 2,
    "start_time": "2021-11-18T06:35:34.288Z"
   },
   {
    "duration": 2,
    "start_time": "2021-11-18T06:38:04.527Z"
   }
  ],
  "kernelspec": {
   "display_name": "Python 3 (ipykernel)",
   "language": "python",
   "name": "python3"
  },
  "language_info": {
   "codemirror_mode": {
    "name": "ipython",
    "version": 3
   },
   "file_extension": ".py",
   "mimetype": "text/x-python",
   "name": "python",
   "nbconvert_exporter": "python",
   "pygments_lexer": "ipython3",
   "version": "3.9.13"
  },
  "toc": {
   "base_numbering": 1,
   "nav_menu": {},
   "number_sections": true,
   "sideBar": true,
   "skip_h1_title": false,
   "title_cell": "Table of Contents",
   "title_sidebar": "Contents",
   "toc_cell": false,
   "toc_position": {},
   "toc_section_display": true,
   "toc_window_display": false
  }
 },
 "nbformat": 4,
 "nbformat_minor": 2
}
